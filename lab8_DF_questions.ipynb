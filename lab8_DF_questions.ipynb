{
 "cells": [
  {
   "cell_type": "markdown",
   "id": "spanish-copyright",
   "metadata": {},
   "source": [
    "## Read data"
   ]
  },
  {
   "cell_type": "code",
   "execution_count": 1,
   "id": "civil-speed",
   "metadata": {},
   "outputs": [],
   "source": [
    "house_1_df = spark.read.format('csv').option('header', True).option('delimiter', ',')\\\n",
    "                .load('housedata/Branch1_HouseDataset.csv')\n",
    "\n",
    "house_2_df = spark.read.format('csv').option('header', True).option('delimiter', ',')\\\n",
    "                .load('housedata/Branch2_HouseDataset.csv')\n",
    "\n",
    "gov_1_df = spark.read.format('csv').option('header', True).option('delimiter', ',')\\\n",
    "                .load('housedata/Branch1_GovDataset.csv')\n",
    "\n",
    "gov_2_df = spark.read.format('csv').option('header', True).option('delimiter', ',')\\\n",
    "                .load('housedata/Branch2_GovDataset.csv')"
   ]
  },
  {
   "cell_type": "markdown",
   "id": "dedicated-pointer",
   "metadata": {
    "tags": []
   },
   "source": [
    "## Preprocess"
   ]
  },
  {
   "cell_type": "markdown",
   "id": "banned-butler",
   "metadata": {},
   "source": [
    "#### Change data type"
   ]
  },
  {
   "cell_type": "code",
   "execution_count": 2,
   "id": "welsh-rescue",
   "metadata": {},
   "outputs": [],
   "source": [
    "house_1_df = house_1_df.withColumn('Id', house_1_df['Id'].cast('int'))\\\n",
    "                        .withColumn('TotalBsmtSF', house_1_df['TotalBsmtSF'].cast('int'))\\\n",
    "                        .withColumn('1stFlrSF', house_1_df['1stFlrSF'].cast('int'))\\\n",
    "                        .withColumn('2ndFlrSF', house_1_df['2ndFlrSF'].cast('int'))\\"
   ]
  },
  {
   "cell_type": "code",
   "execution_count": 3,
   "id": "subjective-cream",
   "metadata": {},
   "outputs": [],
   "source": [
    "house_2_df = house_2_df.withColumn('Id', house_2_df['Id'].cast('int'))\\\n",
    "                        .withColumn('TotalBsmtSF', house_2_df['TotalBsmtSF'].cast('int'))\\\n",
    "                        .withColumn('1stFlrSF', house_2_df['1stFlrSF'].cast('int'))\\\n",
    "                        .withColumn('2ndFlrSF', house_2_df['2ndFlrSF'].cast('int'))\\"
   ]
  },
  {
   "cell_type": "code",
   "execution_count": 4,
   "id": "third-philosophy",
   "metadata": {},
   "outputs": [],
   "source": [
    "gov_1_df = gov_1_df.withColumn('Id', gov_1_df['Id'].cast('int'))\\\n",
    "                    .withColumn('LotFrontage', gov_1_df['LotFrontage'].cast('int'))\\\n",
    "                    .withColumn('SalePrice', gov_1_df['SalePrice'].cast('int'))"
   ]
  },
  {
   "cell_type": "code",
   "execution_count": 5,
   "id": "unexpected-spanking",
   "metadata": {},
   "outputs": [],
   "source": [
    "gov_2_df = gov_2_df.withColumn('Id', gov_2_df['Id'].cast('int'))\\\n",
    "                    .withColumn('LotFrontage', gov_2_df['LotFrontage'].cast('int'))\\\n",
    "                    .withColumn('SalePrice', gov_2_df['SalePrice'].cast('int'))"
   ]
  },
  {
   "cell_type": "markdown",
   "id": "sitting-skill",
   "metadata": {
    "tags": []
   },
   "source": [
    "#### Join and union"
   ]
  },
  {
   "cell_type": "code",
   "execution_count": 6,
   "id": "devoted-privilege",
   "metadata": {},
   "outputs": [
    {
     "name": "stdout",
     "output_type": "stream",
     "text": [
      "Total rows: 1460\n"
     ]
    }
   ],
   "source": [
    "house_data_df = gov_1_df.join(house_1_df, 'Id', 'left').unionAll(gov_2_df.join(house_2_df, 'Id', 'left'))\n",
    "print('Total rows:', house_data_df.count())"
   ]
  },
  {
   "cell_type": "code",
   "execution_count": 7,
   "id": "traditional-headset",
   "metadata": {},
   "outputs": [
    {
     "name": "stdout",
     "output_type": "stream",
     "text": [
      "+---+-----------+--------+---------+-------------+---------+-----+-----------+--------+--------+\n",
      "| Id|LotFrontage|MSZoning|YearBuilt|SaleCondition|SalePrice|Label|TotalBsmtSF|1stFlrSF|2ndFlrSF|\n",
      "+---+-----------+--------+---------+-------------+---------+-----+-----------+--------+--------+\n",
      "|  1|         65|      RL|     2003|       Normal|   208500|    Y|        856|     856|     854|\n",
      "|  2|         80|      RL|     1976|       Normal|   181500|    Y|       1262|    1262|       0|\n",
      "|  3|         68|      RL|     2001|       Normal|   223500|    Y|        920|     920|     866|\n",
      "|  4|         60|      RL|     1915|      Abnorml|   140000|    Y|        756|     961|     756|\n",
      "|  5|         84|      RL|     2000|       Normal|   250000|    Y|       1145|    1145|    1053|\n",
      "|  6|         85|      RL|     1993|       Normal|   143000|    Y|        796|     796|     566|\n",
      "|  7|         75|      RL|     2004|       Normal|   307000|    Y|       1686|    1694|       0|\n",
      "|  8|       null|      RL|     1973|       Normal|   200000|    Y|       1107|    1107|     983|\n",
      "|  9|         51|      RM|     1931|      Abnorml|   129900|    Y|        952|    1022|     752|\n",
      "| 10|         50|      RL|     1939|       Normal|   118000|    Y|        991|    1077|       0|\n",
      "+---+-----------+--------+---------+-------------+---------+-----+-----------+--------+--------+\n",
      "only showing top 10 rows\n",
      "\n"
     ]
    }
   ],
   "source": [
    "house_data_df.show(10)"
   ]
  },
  {
   "cell_type": "markdown",
   "id": "exterior-occasion",
   "metadata": {},
   "source": [
    "## Question: how many house that has only 1st floor?"
   ]
  },
  {
   "cell_type": "code",
   "execution_count": 8,
   "id": "frequent-reader",
   "metadata": {},
   "outputs": [
    {
     "name": "stdout",
     "output_type": "stream",
     "text": [
      "There are \"27\" houses that have only 1st floor.\n"
     ]
    }
   ],
   "source": [
    "only_1st_flr_count = house_data_df.filter(\n",
    "    (house_data_df['TotalBsmtSF'] == 0) \n",
    "    & (house_data_df['2ndFlrSF'] == 0) \n",
    "    & (house_data_df['1stFlrSF'] != 0)\n",
    ").count()\n",
    "\n",
    "print('There are \"' + str(only_1st_flr_count) + '\" houses that have only 1st floor.')"
   ]
  },
  {
   "cell_type": "markdown",
   "id": "awful-vermont",
   "metadata": {},
   "source": [
    "## Question: Calculate price per square feet of total area"
   ]
  },
  {
   "cell_type": "code",
   "execution_count": 9,
   "id": "direct-diving",
   "metadata": {},
   "outputs": [
    {
     "name": "stdout",
     "output_type": "stream",
     "text": [
      "+---+-----------+--------+---------+-------------+---------+-----+-----------+--------+--------+---------+-----------------+\n",
      "| Id|LotFrontage|MSZoning|YearBuilt|SaleCondition|SalePrice|Label|TotalBsmtSF|1stFlrSF|2ndFlrSF|TotalArea|       PricePerSF|\n",
      "+---+-----------+--------+---------+-------------+---------+-----+-----------+--------+--------+---------+-----------------+\n",
      "|  1|         65|      RL|     2003|       Normal|   208500|    Y|        856|     856|     854|     2566|81.25487139516757|\n",
      "|  2|         80|      RL|     1976|       Normal|   181500|    Y|       1262|    1262|       0|     2524|71.90966719492869|\n",
      "|  3|         68|      RL|     2001|       Normal|   223500|    Y|        920|     920|     866|     2706|82.59423503325942|\n",
      "|  4|         60|      RL|     1915|      Abnorml|   140000|    Y|        756|     961|     756|     2473|56.61140315406389|\n",
      "|  5|         84|      RL|     2000|       Normal|   250000|    Y|       1145|    1145|    1053|     3343|74.78312892611427|\n",
      "|  6|         85|      RL|     1993|       Normal|   143000|    Y|        796|     796|     566|     2158|66.26506024096386|\n",
      "|  7|         75|      RL|     2004|       Normal|   307000|    Y|       1686|    1694|       0|     3380|90.82840236686391|\n",
      "|  8|       null|      RL|     1973|       Normal|   200000|    Y|       1107|    1107|     983|     3197|62.55864873318736|\n",
      "|  9|         51|      RM|     1931|      Abnorml|   129900|    Y|        952|    1022|     752|     2726|47.65223771093177|\n",
      "| 10|         50|      RL|     1939|       Normal|   118000|    Y|        991|    1077|       0|     2068|57.05996131528046|\n",
      "+---+-----------+--------+---------+-------------+---------+-----+-----------+--------+--------+---------+-----------------+\n",
      "only showing top 10 rows\n",
      "\n"
     ]
    }
   ],
   "source": [
    "house_data_df = house_data_df.withColumn('TotalArea', house_data_df['TotalBsmtSF'] + house_data_df['1stFlrSF'] + house_data_df['2ndFlrSF'])\n",
    "house_data_df = house_data_df.withColumn('PricePerSF', house_data_df['SalePrice'] / house_data_df['TotalArea'])\n",
    "\n",
    "house_data_df.show(10)"
   ]
  }
 ],
 "metadata": {
  "kernelspec": {
   "display_name": "PySpark 2.4.7",
   "language": "python",
   "name": "pyspark"
  },
  "language_info": {
   "codemirror_mode": {
    "name": "ipython",
    "version": 3
   },
   "file_extension": ".py",
   "mimetype": "text/x-python",
   "name": "python",
   "nbconvert_exporter": "python",
   "pygments_lexer": "ipython3",
   "version": "3.6.8"
  }
 },
 "nbformat": 4,
 "nbformat_minor": 5
}
