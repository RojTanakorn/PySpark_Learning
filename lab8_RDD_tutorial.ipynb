{
 "cells": [
  {
   "cell_type": "code",
   "execution_count": 2,
   "id": "fallen-deficit",
   "metadata": {},
   "outputs": [
    {
     "data": {
      "text/html": [
       "\n",
       "        <div>\n",
       "            <p><b>SparkContext</b></p>\n",
       "\n",
       "            <p><a href=\"http://cpe325.localcluster:4040\">Spark UI</a></p>\n",
       "\n",
       "            <dl>\n",
       "              <dt>Version</dt>\n",
       "                <dd><code>v2.4.7</code></dd>\n",
       "              <dt>Master</dt>\n",
       "                <dd><code>local[*]</code></dd>\n",
       "              <dt>AppName</dt>\n",
       "                <dd><code>pyspark-shell</code></dd>\n",
       "            </dl>\n",
       "        </div>\n",
       "        "
      ],
      "text/plain": [
       "<SparkContext master=local[*] appName=pyspark-shell>"
      ]
     },
     "execution_count": 2,
     "metadata": {},
     "output_type": "execute_result"
    }
   ],
   "source": [
    "sc"
   ]
  },
  {
   "cell_type": "markdown",
   "id": "described-customer",
   "metadata": {},
   "source": [
    "### Read data"
   ]
  },
  {
   "cell_type": "code",
   "execution_count": 3,
   "id": "supposed-shuttle",
   "metadata": {},
   "outputs": [
    {
     "data": {
      "text/plain": [
       "['17/06/09 20:10:40 INFO executor.CoarseGrainedExecutorBackend: Registered signal handlers for [TERM, HUP, INT]',\n",
       " '17/06/09 20:10:40 INFO spark.SecurityManager: Changing view acls to: yarn,curi',\n",
       " '17/06/09 20:10:40 INFO spark.SecurityManager: Changing modify acls to: yarn,curi',\n",
       " '17/06/09 20:10:40 INFO spark.SecurityManager: SecurityManager: authentication disabled; ui acls disabled; users with view permissions: Set(yarn, curi); users with modify permissions: Set(yarn, curi)',\n",
       " '17/06/09 20:10:41 INFO spark.SecurityManager: Changing view acls to: yarn,curi']"
      ]
     },
     "execution_count": 3,
     "metadata": {},
     "output_type": "execute_result"
    }
   ],
   "source": [
    "logs_rdd = sc.textFile('/user/testuser/spark.log')\n",
    "\n",
    "logs_rdd.take(5)"
   ]
  },
  {
   "cell_type": "markdown",
   "id": "outer-perth",
   "metadata": {},
   "source": [
    "### Count amount of data"
   ]
  },
  {
   "cell_type": "code",
   "execution_count": 4,
   "id": "engaged-saturday",
   "metadata": {},
   "outputs": [
    {
     "data": {
      "text/plain": [
       "2000"
      ]
     },
     "execution_count": 4,
     "metadata": {},
     "output_type": "execute_result"
    }
   ],
   "source": [
    "logs_rdd.count()"
   ]
  },
  {
   "cell_type": "markdown",
   "id": "brazilian-closing",
   "metadata": {},
   "source": [
    "### Map"
   ]
  },
  {
   "cell_type": "code",
   "execution_count": 27,
   "id": "catholic-amino",
   "metadata": {},
   "outputs": [
    {
     "data": {
      "text/plain": [
       "['17/06/09', '17/06/09', '17/06/09']"
      ]
     },
     "execution_count": 27,
     "metadata": {},
     "output_type": "execute_result"
    }
   ],
   "source": [
    "logs_rdd.map(lambda log: log.split()[0]).take(3)"
   ]
  },
  {
   "cell_type": "code",
   "execution_count": 30,
   "id": "sealed-dividend",
   "metadata": {},
   "outputs": [
    {
     "data": {
      "text/plain": [
       "[['17/06/09',\n",
       "  '20:10:40',\n",
       "  'INFO',\n",
       "  'executor.CoarseGrainedExecutorBackend:',\n",
       "  'Registered',\n",
       "  'signal',\n",
       "  'handlers',\n",
       "  'for',\n",
       "  '[TERM,',\n",
       "  'HUP,',\n",
       "  'INT]'],\n",
       " ['17/06/09',\n",
       "  '20:10:40',\n",
       "  'INFO',\n",
       "  'spark.SecurityManager:',\n",
       "  'Changing',\n",
       "  'view',\n",
       "  'acls',\n",
       "  'to:',\n",
       "  'yarn,curi']]"
      ]
     },
     "execution_count": 30,
     "metadata": {},
     "output_type": "execute_result"
    }
   ],
   "source": [
    "logs_rdd.map(lambda log: log.split()).take(2)"
   ]
  },
  {
   "cell_type": "code",
   "execution_count": 28,
   "id": "involved-hospital",
   "metadata": {},
   "outputs": [
    {
     "data": {
      "text/plain": [
       "['17/06/09',\n",
       " '20:10:40',\n",
       " 'INFO',\n",
       " 'executor.CoarseGrainedExecutorBackend:',\n",
       " 'Registered',\n",
       " 'signal',\n",
       " 'handlers',\n",
       " 'for',\n",
       " '[TERM,',\n",
       " 'HUP,']"
      ]
     },
     "execution_count": 28,
     "metadata": {},
     "output_type": "execute_result"
    }
   ],
   "source": [
    "logs_rdd.flatMap(lambda log: log.split()).take(10)"
   ]
  },
  {
   "cell_type": "markdown",
   "id": "statutory-cherry",
   "metadata": {},
   "source": [
    "### Create (key, value) pairs using tuple"
   ]
  },
  {
   "cell_type": "code",
   "execution_count": 31,
   "id": "involved-beatles",
   "metadata": {},
   "outputs": [
    {
     "data": {
      "text/plain": [
       "[('executor.CoarseGrainedExecutorBackend:',\n",
       "  'Registered signal handlers for [TERM, HUP, INT]'),\n",
       " ('spark.SecurityManager:', 'Changing view acls to: yarn,curi'),\n",
       " ('spark.SecurityManager:', 'Changing modify acls to: yarn,curi')]"
      ]
     },
     "execution_count": 31,
     "metadata": {},
     "output_type": "execute_result"
    }
   ],
   "source": [
    "source_info_rdd = logs_rdd.map(lambda log: (log.split()[3], log.split(' ', 4)[4]) )\n",
    "source_info_rdd.take(3)"
   ]
  },
  {
   "cell_type": "markdown",
   "id": "compatible-situation",
   "metadata": {},
   "source": [
    "### Get only key or value from (key, value) pairs"
   ]
  },
  {
   "cell_type": "code",
   "execution_count": 32,
   "id": "local-hello",
   "metadata": {},
   "outputs": [
    {
     "data": {
      "text/plain": [
       "['executor.CoarseGrainedExecutorBackend:',\n",
       " 'spark.SecurityManager:',\n",
       " 'spark.SecurityManager:']"
      ]
     },
     "execution_count": 32,
     "metadata": {},
     "output_type": "execute_result"
    }
   ],
   "source": [
    "source_info_rdd.keys().take(3)"
   ]
  },
  {
   "cell_type": "code",
   "execution_count": 33,
   "id": "improving-place",
   "metadata": {},
   "outputs": [
    {
     "data": {
      "text/plain": [
       "['Registered signal handlers for [TERM, HUP, INT]',\n",
       " 'Changing view acls to: yarn,curi',\n",
       " 'Changing modify acls to: yarn,curi']"
      ]
     },
     "execution_count": 33,
     "metadata": {},
     "output_type": "execute_result"
    }
   ],
   "source": [
    "source_info_rdd.values().take(3)"
   ]
  },
  {
   "cell_type": "markdown",
   "id": "critical-crest",
   "metadata": {},
   "source": [
    "### mapValues --> doing map function to value of (key, value) pair only, return (key, mapped_value) instead"
   ]
  },
  {
   "cell_type": "code",
   "execution_count": 35,
   "id": "exclusive-policy",
   "metadata": {},
   "outputs": [
    {
     "data": {
      "text/plain": [
       "[('executor.CoarseGrainedExecutorBackend:', 7),\n",
       " ('spark.SecurityManager:', 5),\n",
       " ('spark.SecurityManager:', 5)]"
      ]
     },
     "execution_count": 35,
     "metadata": {},
     "output_type": "execute_result"
    }
   ],
   "source": [
    "source_len_rdd = source_info_rdd.mapValues(lambda value: len(value.split()))\n",
    "source_len_rdd.take(3)"
   ]
  },
  {
   "cell_type": "markdown",
   "id": "needed-intervention",
   "metadata": {},
   "source": [
    "### flatMapValues --> map to value only like above, but return (key, mapped_value_part1), (key, mapped_value_part2), ... instead"
   ]
  },
  {
   "cell_type": "code",
   "execution_count": 38,
   "id": "periodic-usage",
   "metadata": {},
   "outputs": [
    {
     "data": {
      "text/plain": [
       "[('executor.CoarseGrainedExecutorBackend:', 'Registered'),\n",
       " ('executor.CoarseGrainedExecutorBackend:', 'signal'),\n",
       " ('executor.CoarseGrainedExecutorBackend:', 'handlers'),\n",
       " ('executor.CoarseGrainedExecutorBackend:', 'for'),\n",
       " ('executor.CoarseGrainedExecutorBackend:', '[TERM,'),\n",
       " ('executor.CoarseGrainedExecutorBackend:', 'HUP,'),\n",
       " ('executor.CoarseGrainedExecutorBackend:', 'INT]'),\n",
       " ('spark.SecurityManager:', 'Changing'),\n",
       " ('spark.SecurityManager:', 'view'),\n",
       " ('spark.SecurityManager:', 'acls')]"
      ]
     },
     "execution_count": 38,
     "metadata": {},
     "output_type": "execute_result"
    }
   ],
   "source": [
    "source_word_rdd = source_info_rdd.flatMapValues(lambda value: value.split())\n",
    "source_word_rdd.take(10)"
   ]
  },
  {
   "cell_type": "markdown",
   "id": "ahead-broadcasting",
   "metadata": {},
   "source": [
    "### Filter & Distinct"
   ]
  },
  {
   "cell_type": "code",
   "execution_count": 46,
   "id": "banned-interval",
   "metadata": {},
   "outputs": [
    {
     "data": {
      "text/plain": [
       "['20:10:41',\n",
       " '20:10:41',\n",
       " '20:10:41',\n",
       " '20:10:41',\n",
       " '20:10:41',\n",
       " '20:10:41',\n",
       " '20:10:41',\n",
       " '20:10:41',\n",
       " '20:10:41',\n",
       " '20:10:42',\n",
       " '20:10:42',\n",
       " '20:10:42',\n",
       " '20:10:42',\n",
       " '20:10:42',\n",
       " '20:10:42',\n",
       " '20:10:42',\n",
       " '20:10:45',\n",
       " '20:10:45',\n",
       " '20:10:45',\n",
       " '20:10:45']"
      ]
     },
     "execution_count": 46,
     "metadata": {},
     "output_type": "execute_result"
    }
   ],
   "source": [
    "time_range = logs_rdd.map(lambda log: log.split()[1]).filter(lambda time: '20:10:41' <= time <= '20:10:50')\n",
    "time_range.take(20)"
   ]
  },
  {
   "cell_type": "code",
   "execution_count": 47,
   "id": "deluxe-listening",
   "metadata": {},
   "outputs": [
    {
     "data": {
      "text/plain": [
       "['20:10:41', '20:10:42', '20:10:45', '20:10:46', '20:10:47', '20:10:48']"
      ]
     },
     "execution_count": 47,
     "metadata": {},
     "output_type": "execute_result"
    }
   ],
   "source": [
    "time_range.distinct().take(20)"
   ]
  },
  {
   "cell_type": "markdown",
   "id": "animated-lounge",
   "metadata": {},
   "source": [
    "### Reduce (aggregrate something on RDD, apply to 1-D only)"
   ]
  },
  {
   "cell_type": "code",
   "execution_count": 48,
   "id": "final-balloon",
   "metadata": {},
   "outputs": [
    {
     "data": {
      "text/plain": [
       "[7, 5, 5, 18, 5]"
      ]
     },
     "execution_count": 48,
     "metadata": {},
     "output_type": "execute_result"
    }
   ],
   "source": [
    "source_len_rdd.values().take(5)"
   ]
  },
  {
   "cell_type": "code",
   "execution_count": 49,
   "id": "disturbed-defendant",
   "metadata": {},
   "outputs": [
    {
     "data": {
      "text/plain": [
       "17511"
      ]
     },
     "execution_count": 49,
     "metadata": {},
     "output_type": "execute_result"
    }
   ],
   "source": [
    "source_len_rdd.values().reduce(lambda x, y: x+y)"
   ]
  },
  {
   "cell_type": "markdown",
   "id": "dimensional-trademark",
   "metadata": {},
   "source": [
    "### reduceByKey --> aggregate with the same key only, return (key, aggregate_value)"
   ]
  },
  {
   "cell_type": "code",
   "execution_count": 50,
   "id": "nervous-color",
   "metadata": {},
   "outputs": [
    {
     "data": {
      "text/plain": [
       "[('executor.CoarseGrainedExecutorBackend:', 7),\n",
       " ('spark.SecurityManager:', 5),\n",
       " ('spark.SecurityManager:', 5),\n",
       " ('spark.SecurityManager:', 18),\n",
       " ('spark.SecurityManager:', 5)]"
      ]
     },
     "execution_count": 50,
     "metadata": {},
     "output_type": "execute_result"
    }
   ],
   "source": [
    "source_len_rdd.take(5)"
   ]
  },
  {
   "cell_type": "code",
   "execution_count": 51,
   "id": "exclusive-magic",
   "metadata": {},
   "outputs": [
    {
     "data": {
      "text/plain": [
       "[('spark.SecurityManager:', 56),\n",
       " ('slf4j.Slf4jLogger:', 2),\n",
       " ('storage.DiskBlockManager:', 5),\n",
       " ('executor.Executor:', 6647),\n",
       " ('broadcast.TorrentBroadcast:', 444),\n",
       " ('python.PythonRunner:', 4875),\n",
       " ('output.FileOutputCommitter:', 420),\n",
       " ('mapred.SparkHadoopMapRedUtil:', 60),\n",
       " ('executor.CoarseGrainedExecutorBackend:', 1235),\n",
       " ('Remoting:', 8)]"
      ]
     },
     "execution_count": 51,
     "metadata": {},
     "output_type": "execute_result"
    }
   ],
   "source": [
    "source_total_word_rdd = source_len_rdd.reduceByKey(lambda x, y: x+y)\n",
    "source_total_word_rdd.take(10)"
   ]
  },
  {
   "cell_type": "markdown",
   "id": "backed-holly",
   "metadata": {},
   "source": [
    "### Group (apply to 1-D only)"
   ]
  },
  {
   "cell_type": "code",
   "execution_count": 52,
   "id": "floating-career",
   "metadata": {},
   "outputs": [
    {
     "data": {
      "text/plain": [
       "[7, 5, 5, 18, 5]"
      ]
     },
     "execution_count": 52,
     "metadata": {},
     "output_type": "execute_result"
    }
   ],
   "source": [
    "source_len_rdd.values().take(5)"
   ]
  },
  {
   "cell_type": "code",
   "execution_count": 65,
   "id": "failing-fundamental",
   "metadata": {},
   "outputs": [
    {
     "data": {
      "text/plain": [
       "[(18, 2),\n",
       " (2, 33),\n",
       " (6, 82),\n",
       " (4, 566),\n",
       " (8, 305),\n",
       " (14, 449),\n",
       " (7, 101),\n",
       " (5, 42),\n",
       " (3, 45),\n",
       " (13, 375)]"
      ]
     },
     "execution_count": 65,
     "metadata": {},
     "output_type": "execute_result"
    }
   ],
   "source": [
    "source_len_rdd.values().groupBy(lambda value: value).mapValues( lambda l: len(list(l)) ).take(10)"
   ]
  },
  {
   "cell_type": "markdown",
   "id": "gentle-reduction",
   "metadata": {},
   "source": [
    "### groupByKey (apply to (key, value) pair tuple only)"
   ]
  },
  {
   "cell_type": "code",
   "execution_count": 66,
   "id": "focused-cincinnati",
   "metadata": {},
   "outputs": [
    {
     "data": {
      "text/plain": [
       "[('executor.CoarseGrainedExecutorBackend:', 7),\n",
       " ('spark.SecurityManager:', 5),\n",
       " ('spark.SecurityManager:', 5),\n",
       " ('spark.SecurityManager:', 18),\n",
       " ('spark.SecurityManager:', 5)]"
      ]
     },
     "execution_count": 66,
     "metadata": {},
     "output_type": "execute_result"
    }
   ],
   "source": [
    "source_len_rdd.take(5)"
   ]
  },
  {
   "cell_type": "code",
   "execution_count": 73,
   "id": "northern-extraction",
   "metadata": {},
   "outputs": [
    {
     "data": {
      "text/plain": [
       "[('spark.SecurityManager:',\n",
       "  <pyspark.resultiterable.ResultIterable at 0x7f668811a400>),\n",
       " ('slf4j.Slf4jLogger:',\n",
       "  <pyspark.resultiterable.ResultIterable at 0x7f668811ab70>),\n",
       " ('storage.DiskBlockManager:',\n",
       "  <pyspark.resultiterable.ResultIterable at 0x7f668811a630>)]"
      ]
     },
     "execution_count": 73,
     "metadata": {},
     "output_type": "execute_result"
    }
   ],
   "source": [
    "source_len_rdd.groupByKey().mapValues(lambda value: value).take(3)"
   ]
  },
  {
   "cell_type": "code",
   "execution_count": 74,
   "id": "violent-printer",
   "metadata": {},
   "outputs": [
    {
     "data": {
      "text/plain": [
       "[('spark.SecurityManager:', [5, 5, 18, 5, 5, 18]),\n",
       " ('slf4j.Slf4jLogger:', [2]),\n",
       " ('storage.DiskBlockManager:', [5])]"
      ]
     },
     "execution_count": 74,
     "metadata": {},
     "output_type": "execute_result"
    }
   ],
   "source": [
    "source_len_rdd.groupByKey().mapValues(lambda value: list(value)).take(3)"
   ]
  },
  {
   "cell_type": "code",
   "execution_count": 76,
   "id": "featured-determination",
   "metadata": {},
   "outputs": [
    {
     "data": {
      "text/plain": [
       "[('spark.SecurityManager:', 6),\n",
       " ('slf4j.Slf4jLogger:', 1),\n",
       " ('storage.DiskBlockManager:', 1)]"
      ]
     },
     "execution_count": 76,
     "metadata": {},
     "output_type": "execute_result"
    }
   ],
   "source": [
    "source_total_line_rdd = source_len_rdd.groupByKey().mapValues(lambda value: len(value))\n",
    "source_total_line_rdd.take(3)"
   ]
  },
  {
   "cell_type": "markdown",
   "id": "economic-sheep",
   "metadata": {},
   "source": [
    "### Join --> join 2 RDD by key, return (key, (value_from_rdd1, value_from_rdd2))"
   ]
  },
  {
   "cell_type": "code",
   "execution_count": 77,
   "id": "demographic-sociology",
   "metadata": {},
   "outputs": [
    {
     "data": {
      "text/plain": [
       "[('spark.SecurityManager:', (6, 56)),\n",
       " ('slf4j.Slf4jLogger:', (1, 2)),\n",
       " ('storage.DiskBlockManager:', (1, 5)),\n",
       " ('executor.Executor:', (606, 6647)),\n",
       " ('broadcast.TorrentBroadcast:', (74, 444)),\n",
       " ('python.PythonRunner:', (375, 4875)),\n",
       " ('output.FileOutputCommitter:', (60, 420)),\n",
       " ('mapred.SparkHadoopMapRedUtil:', (30, 60)),\n",
       " ('executor.CoarseGrainedExecutorBackend:', (308, 1235)),\n",
       " ('Remoting:', (2, 8))]"
      ]
     },
     "execution_count": 77,
     "metadata": {},
     "output_type": "execute_result"
    }
   ],
   "source": [
    "source_total_line_rdd.join(source_total_word_rdd).take(10)"
   ]
  },
  {
   "cell_type": "markdown",
   "id": "fewer-witch",
   "metadata": {},
   "source": [
    "### countByKey --> count number of each key"
   ]
  },
  {
   "cell_type": "code",
   "execution_count": 78,
   "id": "following-accreditation",
   "metadata": {},
   "outputs": [
    {
     "data": {
      "text/plain": [
       "[('executor.CoarseGrainedExecutorBackend:', 7),\n",
       " ('spark.SecurityManager:', 5),\n",
       " ('spark.SecurityManager:', 5),\n",
       " ('spark.SecurityManager:', 18),\n",
       " ('spark.SecurityManager:', 5)]"
      ]
     },
     "execution_count": 78,
     "metadata": {},
     "output_type": "execute_result"
    }
   ],
   "source": [
    "source_len_rdd.take(5)"
   ]
  },
  {
   "cell_type": "code",
   "execution_count": 80,
   "id": "seven-understanding",
   "metadata": {},
   "outputs": [
    {
     "data": {
      "text/plain": [
       "defaultdict(int,\n",
       "            {'executor.CoarseGrainedExecutorBackend:': 308,\n",
       "             'spark.SecurityManager:': 6,\n",
       "             'slf4j.Slf4jLogger:': 1,\n",
       "             'Remoting:': 2,\n",
       "             'util.Utils:': 2,\n",
       "             'storage.DiskBlockManager:': 1,\n",
       "             'storage.MemoryStore:': 150,\n",
       "             'executor.Executor:': 606,\n",
       "             'netty.NettyBlockTransferService:': 1,\n",
       "             'storage.BlockManagerMaster:': 2,\n",
       "             'broadcast.TorrentBroadcast:': 74,\n",
       "             'spark.CacheManager:': 75,\n",
       "             'rdd.HadoopRDD:': 45,\n",
       "             'Configuration.deprecation:': 5,\n",
       "             'python.PythonRunner:': 375,\n",
       "             'storage.BlockManager:': 257,\n",
       "             'output.FileOutputCommitter:': 60,\n",
       "             'mapred.SparkHadoopMapRedUtil:': 30})"
      ]
     },
     "execution_count": 80,
     "metadata": {},
     "output_type": "execute_result"
    }
   ],
   "source": [
    "source_len_rdd.countByKey()"
   ]
  },
  {
   "cell_type": "code",
   "execution_count": 88,
   "id": "static-bermuda",
   "metadata": {},
   "outputs": [
    {
     "data": {
      "text/plain": [
       "defaultdict(int, {'a': 1, 'b': 1, 'c': 1, 'd': 1})"
      ]
     },
     "execution_count": 88,
     "metadata": {},
     "output_type": "execute_result"
    }
   ],
   "source": [
    "sample_data = sc.parallelize([\n",
    "    ('a', [1, 2]),\n",
    "    ('b', [1, 0, 1, 20]),\n",
    "    ('c', [1]),\n",
    "    ('d', [])\n",
    "])\n",
    "\n",
    "sample_data.countByKey()"
   ]
  },
  {
   "cell_type": "code",
   "execution_count": 90,
   "id": "paperback-halloween",
   "metadata": {},
   "outputs": [
    {
     "data": {
      "text/plain": [
       "defaultdict(int, {'a': 1, 'b': 1, 'c': 1, 'd': 1})"
      ]
     },
     "execution_count": 90,
     "metadata": {},
     "output_type": "execute_result"
    }
   ],
   "source": [
    "sample_data = sc.parallelize([\n",
    "    ('a', 5),\n",
    "    ('b', 1),\n",
    "    ('c', 2),\n",
    "    ('d', 7, 9)\n",
    "])\n",
    "\n",
    "sample_data.countByKey()"
   ]
  },
  {
   "cell_type": "code",
   "execution_count": 91,
   "id": "unknown-trader",
   "metadata": {},
   "outputs": [
    {
     "data": {
      "text/plain": [
       "defaultdict(int, {'a': 2, 'c': 1, 'd': 1})"
      ]
     },
     "execution_count": 91,
     "metadata": {},
     "output_type": "execute_result"
    }
   ],
   "source": [
    "sample_data = sc.parallelize([\n",
    "    ('a', 5),\n",
    "    ('a', 1),\n",
    "    ('c', 2),\n",
    "    ('d', 7, 9)\n",
    "])\n",
    "\n",
    "sample_data.countByKey()"
   ]
  },
  {
   "cell_type": "markdown",
   "id": "accomplished-jones",
   "metadata": {},
   "source": [
    "### countByValue --> look (key, value) pair as one element to count"
   ]
  },
  {
   "cell_type": "code",
   "execution_count": 92,
   "id": "passing-tissue",
   "metadata": {},
   "outputs": [
    {
     "data": {
      "text/plain": [
       "[('executor.CoarseGrainedExecutorBackend:', 7),\n",
       " ('spark.SecurityManager:', 5),\n",
       " ('spark.SecurityManager:', 5),\n",
       " ('spark.SecurityManager:', 18),\n",
       " ('spark.SecurityManager:', 5)]"
      ]
     },
     "execution_count": 92,
     "metadata": {},
     "output_type": "execute_result"
    }
   ],
   "source": [
    "source_len_rdd.take(5)"
   ]
  },
  {
   "cell_type": "code",
   "execution_count": 93,
   "id": "charged-theme",
   "metadata": {},
   "outputs": [
    {
     "data": {
      "text/plain": [
       "defaultdict(int,\n",
       "            {('executor.CoarseGrainedExecutorBackend:', 7): 1,\n",
       "             ('spark.SecurityManager:', 5): 4,\n",
       "             ('spark.SecurityManager:', 18): 2,\n",
       "             ('slf4j.Slf4jLogger:', 2): 1,\n",
       "             ('Remoting:', 2): 1,\n",
       "             ('Remoting:', 6): 1,\n",
       "             ('util.Utils:', 7): 2,\n",
       "             ('storage.DiskBlockManager:', 5): 1,\n",
       "             ('storage.MemoryStore:', 6): 1,\n",
       "             ('executor.CoarseGrainedExecutorBackend:', 4): 307,\n",
       "             ('executor.Executor:', 7): 1,\n",
       "             ('netty.NettyBlockTransferService:', 4): 1,\n",
       "             ('storage.BlockManagerMaster:', 4): 1,\n",
       "             ('storage.BlockManagerMaster:', 2): 1,\n",
       "             ('executor.Executor:', 8): 305,\n",
       "             ('broadcast.TorrentBroadcast:', 5): 37,\n",
       "             ('storage.MemoryStore:', 14): 149,\n",
       "             ('broadcast.TorrentBroadcast:', 7): 37,\n",
       "             ('spark.CacheManager:', 6): 75,\n",
       "             ('rdd.HadoopRDD:', 3): 45,\n",
       "             ('Configuration.deprecation:', 6): 5,\n",
       "             ('python.PythonRunner:', 13): 375,\n",
       "             ('executor.Executor:', 14): 300,\n",
       "             ('storage.BlockManager:', 4): 257,\n",
       "             ('output.FileOutputCommitter:', 7): 60,\n",
       "             ('mapred.SparkHadoopMapRedUtil:', 2): 30})"
      ]
     },
     "execution_count": 93,
     "metadata": {},
     "output_type": "execute_result"
    }
   ],
   "source": [
    "source_len_rdd.countByValue()"
   ]
  },
  {
   "cell_type": "markdown",
   "id": "caring-mitchell",
   "metadata": {},
   "source": [
    "### sortBy"
   ]
  },
  {
   "cell_type": "code",
   "execution_count": 95,
   "id": "incorporate-classification",
   "metadata": {},
   "outputs": [
    {
     "data": {
      "text/plain": [
       "[('executor.CoarseGrainedExecutorBackend:', 7),\n",
       " ('spark.SecurityManager:', 5),\n",
       " ('spark.SecurityManager:', 5),\n",
       " ('spark.SecurityManager:', 18),\n",
       " ('spark.SecurityManager:', 5)]"
      ]
     },
     "execution_count": 95,
     "metadata": {},
     "output_type": "execute_result"
    }
   ],
   "source": [
    "source_len_rdd.take(5)"
   ]
  },
  {
   "cell_type": "code",
   "execution_count": 106,
   "id": "premium-memory",
   "metadata": {},
   "outputs": [
    {
     "data": {
      "text/plain": [
       "[('slf4j.Slf4jLogger:', 2),\n",
       " ('Remoting:', 2),\n",
       " ('storage.BlockManagerMaster:', 2),\n",
       " ('mapred.SparkHadoopMapRedUtil:', 2),\n",
       " ('mapred.SparkHadoopMapRedUtil:', 2)]"
      ]
     },
     "execution_count": 106,
     "metadata": {},
     "output_type": "execute_result"
    }
   ],
   "source": [
    "# ASC\n",
    "source_len_rdd.sortBy(lambda rdd: rdd[1]).take(5)"
   ]
  },
  {
   "cell_type": "code",
   "execution_count": 100,
   "id": "lesser-celebrity",
   "metadata": {},
   "outputs": [
    {
     "data": {
      "text/plain": [
       "[('spark.SecurityManager:', 18),\n",
       " ('spark.SecurityManager:', 18),\n",
       " ('storage.MemoryStore:', 14),\n",
       " ('storage.MemoryStore:', 14),\n",
       " ('storage.MemoryStore:', 14)]"
      ]
     },
     "execution_count": 100,
     "metadata": {},
     "output_type": "execute_result"
    }
   ],
   "source": [
    "# DESC\n",
    "source_len_rdd.sortBy(lambda rdd: -rdd[1]).take(5)"
   ]
  },
  {
   "cell_type": "code",
   "execution_count": 97,
   "id": "encouraging-measurement",
   "metadata": {},
   "outputs": [
    {
     "data": {
      "text/plain": [
       "[('Configuration.deprecation:', 6),\n",
       " ('Configuration.deprecation:', 6),\n",
       " ('Configuration.deprecation:', 6),\n",
       " ('Configuration.deprecation:', 6),\n",
       " ('Configuration.deprecation:', 6)]"
      ]
     },
     "execution_count": 97,
     "metadata": {},
     "output_type": "execute_result"
    }
   ],
   "source": [
    "# Similar to sortByKey\n",
    "source_len_rdd.sortBy(lambda rdd: rdd[0]).take(5)"
   ]
  },
  {
   "cell_type": "markdown",
   "id": "medieval-reaction",
   "metadata": {},
   "source": [
    "### soryByKey"
   ]
  },
  {
   "cell_type": "code",
   "execution_count": 98,
   "id": "racial-reservoir",
   "metadata": {},
   "outputs": [
    {
     "data": {
      "text/plain": [
       "[('executor.CoarseGrainedExecutorBackend:', 7),\n",
       " ('spark.SecurityManager:', 5),\n",
       " ('spark.SecurityManager:', 5),\n",
       " ('spark.SecurityManager:', 18),\n",
       " ('spark.SecurityManager:', 5)]"
      ]
     },
     "execution_count": 98,
     "metadata": {},
     "output_type": "execute_result"
    }
   ],
   "source": [
    "source_len_rdd.take(5)"
   ]
  },
  {
   "cell_type": "code",
   "execution_count": 108,
   "id": "lasting-encoding",
   "metadata": {},
   "outputs": [
    {
     "data": {
      "text/plain": [
       "[('Configuration.deprecation:', 6),\n",
       " ('Configuration.deprecation:', 6),\n",
       " ('Configuration.deprecation:', 6),\n",
       " ('Configuration.deprecation:', 6),\n",
       " ('Configuration.deprecation:', 6)]"
      ]
     },
     "execution_count": 108,
     "metadata": {},
     "output_type": "execute_result"
    }
   ],
   "source": [
    "# ASC\n",
    "source_len_rdd.sortByKey().take(5)"
   ]
  },
  {
   "cell_type": "code",
   "execution_count": 107,
   "id": "fallen-distributor",
   "metadata": {},
   "outputs": [
    {
     "data": {
      "text/plain": [
       "[('util.Utils:', 7),\n",
       " ('util.Utils:', 7),\n",
       " ('storage.MemoryStore:', 6),\n",
       " ('storage.MemoryStore:', 14),\n",
       " ('storage.MemoryStore:', 14)]"
      ]
     },
     "execution_count": 107,
     "metadata": {},
     "output_type": "execute_result"
    }
   ],
   "source": [
    "# DESC\n",
    "source_len_rdd.sortByKey(False).take(5)"
   ]
  },
  {
   "cell_type": "markdown",
   "id": "former-childhood",
   "metadata": {},
   "source": [
    "### Partition"
   ]
  },
  {
   "cell_type": "code",
   "execution_count": 109,
   "id": "upper-difference",
   "metadata": {},
   "outputs": [
    {
     "data": {
      "text/plain": [
       "2"
      ]
     },
     "execution_count": 109,
     "metadata": {},
     "output_type": "execute_result"
    }
   ],
   "source": [
    "source_len_rdd.getNumPartitions()"
   ]
  },
  {
   "cell_type": "code",
   "execution_count": 110,
   "id": "persistent-organ",
   "metadata": {},
   "outputs": [],
   "source": [
    "source_len_rdd = source_len_rdd.repartition(1)"
   ]
  },
  {
   "cell_type": "code",
   "execution_count": 111,
   "id": "palestinian-thomson",
   "metadata": {},
   "outputs": [
    {
     "data": {
      "text/plain": [
       "1"
      ]
     },
     "execution_count": 111,
     "metadata": {},
     "output_type": "execute_result"
    }
   ],
   "source": [
    "source_len_rdd.getNumPartitions()"
   ]
  },
  {
   "cell_type": "markdown",
   "id": "dried-attack",
   "metadata": {},
   "source": [
    "### Max, Min, Mean"
   ]
  },
  {
   "cell_type": "code",
   "execution_count": 113,
   "id": "julian-island",
   "metadata": {},
   "outputs": [
    {
     "data": {
      "text/plain": [
       "[('executor.CoarseGrainedExecutorBackend:', 7),\n",
       " ('spark.SecurityManager:', 5),\n",
       " ('spark.SecurityManager:', 5),\n",
       " ('spark.SecurityManager:', 18),\n",
       " ('spark.SecurityManager:', 5)]"
      ]
     },
     "execution_count": 113,
     "metadata": {},
     "output_type": "execute_result"
    }
   ],
   "source": [
    "source_len_rdd.take(5)"
   ]
  },
  {
   "cell_type": "code",
   "execution_count": 123,
   "id": "narrow-importance",
   "metadata": {},
   "outputs": [
    {
     "data": {
      "text/plain": [
       "18"
      ]
     },
     "execution_count": 123,
     "metadata": {},
     "output_type": "execute_result"
    }
   ],
   "source": [
    "source_len_rdd.values().max()"
   ]
  },
  {
   "cell_type": "code",
   "execution_count": 115,
   "id": "armed-hebrew",
   "metadata": {},
   "outputs": [
    {
     "data": {
      "text/plain": [
       "2"
      ]
     },
     "execution_count": 115,
     "metadata": {},
     "output_type": "execute_result"
    }
   ],
   "source": [
    "source_len_rdd.values().min()"
   ]
  },
  {
   "cell_type": "code",
   "execution_count": 117,
   "id": "fatty-violation",
   "metadata": {},
   "outputs": [
    {
     "data": {
      "text/plain": [
       "8.755500000000003"
      ]
     },
     "execution_count": 117,
     "metadata": {},
     "output_type": "execute_result"
    }
   ],
   "source": [
    "source_len_rdd.values().mean()"
   ]
  },
  {
   "cell_type": "code",
   "execution_count": 132,
   "id": "black-knitting",
   "metadata": {},
   "outputs": [
    {
     "data": {
      "text/plain": [
       "[('slf4j.Slf4jLogger:', 2),\n",
       " ('Remoting:', 2),\n",
       " ('storage.BlockManagerMaster:', 2),\n",
       " ('mapred.SparkHadoopMapRedUtil:', 2),\n",
       " ('mapred.SparkHadoopMapRedUtil:', 2),\n",
       " ('mapred.SparkHadoopMapRedUtil:', 2),\n",
       " ('mapred.SparkHadoopMapRedUtil:', 2),\n",
       " ('mapred.SparkHadoopMapRedUtil:', 2),\n",
       " ('mapred.SparkHadoopMapRedUtil:', 2),\n",
       " ('mapred.SparkHadoopMapRedUtil:', 2)]"
      ]
     },
     "execution_count": 132,
     "metadata": {},
     "output_type": "execute_result"
    }
   ],
   "source": [
    "min_len = source_len_rdd.values().min()\n",
    "source_len_rdd.filter(lambda rdd: rdd[1] == min_len).take(10)"
   ]
  },
  {
   "cell_type": "code",
   "execution_count": null,
   "id": "moved-warren",
   "metadata": {},
   "outputs": [],
   "source": []
  }
 ],
 "metadata": {
  "kernelspec": {
   "display_name": "PySpark 2.4.7",
   "language": "python",
   "name": "pyspark"
  },
  "language_info": {
   "codemirror_mode": {
    "name": "ipython",
    "version": 3
   },
   "file_extension": ".py",
   "mimetype": "text/x-python",
   "name": "python",
   "nbconvert_exporter": "python",
   "pygments_lexer": "ipython3",
   "version": "3.6.8"
  }
 },
 "nbformat": 4,
 "nbformat_minor": 5
}
