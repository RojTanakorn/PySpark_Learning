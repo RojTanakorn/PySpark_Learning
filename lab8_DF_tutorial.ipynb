{
 "cells": [
  {
   "cell_type": "code",
   "execution_count": 1,
   "id": "vietnamese-demographic",
   "metadata": {},
   "outputs": [],
   "source": [
    "house_1_df = spark.read.format('csv').option('header', True).option('delimiter', ',')\\\n",
    "                .load('housedata/Branch1_HouseDataset.csv')\n",
    "\n",
    "house_2_df = spark.read.format('csv').option('header', True).option('delimiter', ',')\\\n",
    "                .load('housedata/Branch2_HouseDataset.csv')\n",
    "\n",
    "gov_1_df = spark.read.format('csv').option('header', True).option('delimiter', ',')\\\n",
    "                .load('housedata/Branch1_GovDataset.csv')\n",
    "\n",
    "gov_2_df = spark.read.format('csv').option('header', True).option('delimiter', ',')\\\n",
    "                .load('housedata/Branch2_GovDataset.csv')"
   ]
  },
  {
   "cell_type": "markdown",
   "id": "floral-runner",
   "metadata": {},
   "source": [
    "### Count rows of dataframe"
   ]
  },
  {
   "cell_type": "code",
   "execution_count": 2,
   "id": "close-syntax",
   "metadata": {},
   "outputs": [
    {
     "data": {
      "text/plain": [
       "1000"
      ]
     },
     "execution_count": 2,
     "metadata": {},
     "output_type": "execute_result"
    }
   ],
   "source": [
    "house_1_df.count()"
   ]
  },
  {
   "cell_type": "markdown",
   "id": "assigned-monthly",
   "metadata": {},
   "source": [
    "### Get all column names of dataframe"
   ]
  },
  {
   "cell_type": "code",
   "execution_count": 3,
   "id": "derived-fountain",
   "metadata": {},
   "outputs": [
    {
     "data": {
      "text/plain": [
       "['Id',\n",
       " 'LotFrontage',\n",
       " 'MSZoning',\n",
       " 'YearBuilt',\n",
       " 'SaleCondition',\n",
       " 'SalePrice',\n",
       " 'Label']"
      ]
     },
     "execution_count": 3,
     "metadata": {},
     "output_type": "execute_result"
    }
   ],
   "source": [
    "gov_1_df.columns"
   ]
  },
  {
   "cell_type": "code",
   "execution_count": 4,
   "id": "empty-power",
   "metadata": {},
   "outputs": [
    {
     "data": {
      "text/plain": [
       "7"
      ]
     },
     "execution_count": 4,
     "metadata": {},
     "output_type": "execute_result"
    }
   ],
   "source": [
    "len(gov_1_df.columns)"
   ]
  },
  {
   "cell_type": "markdown",
   "id": "operational-effort",
   "metadata": {},
   "source": [
    "### Get datatype of all columns"
   ]
  },
  {
   "cell_type": "code",
   "execution_count": 5,
   "id": "collect-participation",
   "metadata": {},
   "outputs": [
    {
     "data": {
      "text/plain": [
       "[('Id', 'string'),\n",
       " ('LotFrontage', 'string'),\n",
       " ('MSZoning', 'string'),\n",
       " ('YearBuilt', 'string'),\n",
       " ('SaleCondition', 'string'),\n",
       " ('SalePrice', 'string'),\n",
       " ('Label', 'string')]"
      ]
     },
     "execution_count": 5,
     "metadata": {},
     "output_type": "execute_result"
    }
   ],
   "source": [
    "gov_1_df.dtypes"
   ]
  },
  {
   "cell_type": "markdown",
   "id": "interim-copying",
   "metadata": {},
   "source": [
    "### Show schema of dataframe"
   ]
  },
  {
   "cell_type": "code",
   "execution_count": 7,
   "id": "commercial-combining",
   "metadata": {},
   "outputs": [
    {
     "name": "stdout",
     "output_type": "stream",
     "text": [
      "root\n",
      " |-- Id: string (nullable = true)\n",
      " |-- LotFrontage: string (nullable = true)\n",
      " |-- MSZoning: string (nullable = true)\n",
      " |-- YearBuilt: string (nullable = true)\n",
      " |-- SaleCondition: string (nullable = true)\n",
      " |-- SalePrice: string (nullable = true)\n",
      " |-- Label: string (nullable = true)\n",
      "\n"
     ]
    }
   ],
   "source": [
    "gov_1_df.printSchema()"
   ]
  },
  {
   "cell_type": "markdown",
   "id": "described-direction",
   "metadata": {},
   "source": [
    "### Show samples of dataframe"
   ]
  },
  {
   "cell_type": "code",
   "execution_count": 8,
   "id": "regional-profile",
   "metadata": {},
   "outputs": [
    {
     "name": "stdout",
     "output_type": "stream",
     "text": [
      "+---+-----------+--------+---------+-------------+---------+-----+\n",
      "| Id|LotFrontage|MSZoning|YearBuilt|SaleCondition|SalePrice|Label|\n",
      "+---+-----------+--------+---------+-------------+---------+-----+\n",
      "|  1|       65.0|      RL|     2003|       Normal|   208500|    Y|\n",
      "|  2|       80.0|      RL|     1976|       Normal|   181500|    Y|\n",
      "|  3|       68.0|      RL|     2001|       Normal|   223500|    Y|\n",
      "|  4|       60.0|      RL|     1915|      Abnorml|   140000|    Y|\n",
      "|  5|       84.0|      RL|     2000|       Normal|   250000|    Y|\n",
      "|  6|       85.0|      RL|     1993|       Normal|   143000|    Y|\n",
      "|  7|       75.0|      RL|     2004|       Normal|   307000|    Y|\n",
      "|  8|       null|      RL|     1973|       Normal|   200000|    Y|\n",
      "|  9|       51.0|      RM|     1931|      Abnorml|   129900|    Y|\n",
      "| 10|       50.0|      RL|     1939|       Normal|   118000|    Y|\n",
      "+---+-----------+--------+---------+-------------+---------+-----+\n",
      "only showing top 10 rows\n",
      "\n"
     ]
    }
   ],
   "source": [
    "gov_1_df.show(10)"
   ]
  },
  {
   "cell_type": "markdown",
   "id": "sorted-minority",
   "metadata": {},
   "source": [
    "### Access value in dataframe"
   ]
  },
  {
   "cell_type": "code",
   "execution_count": 10,
   "id": "dominican-sensitivity",
   "metadata": {},
   "outputs": [
    {
     "data": {
      "text/plain": [
       "'65.0'"
      ]
     },
     "execution_count": 10,
     "metadata": {},
     "output_type": "execute_result"
    }
   ],
   "source": [
    "# <dataframe>.collect()[<row_number>][<column_name>]\n",
    "gov_1_df.collect()[0]['LotFrontage']"
   ]
  },
  {
   "cell_type": "markdown",
   "id": "catholic-personality",
   "metadata": {},
   "source": [
    "### Sort dataframe"
   ]
  },
  {
   "cell_type": "code",
   "execution_count": 21,
   "id": "built-border",
   "metadata": {},
   "outputs": [
    {
     "name": "stdout",
     "output_type": "stream",
     "text": [
      "+---+-----------+--------+---------+-------------+---------+-----+\n",
      "| Id|LotFrontage|MSZoning|YearBuilt|SaleCondition|SalePrice|Label|\n",
      "+---+-----------+--------+---------+-------------+---------+-----+\n",
      "|631|       50.0|      RM|     1880|      Abnorml|   124000|    Y|\n",
      "|305|       87.0|      RM|     1880|       Normal|   295000|    Y|\n",
      "|748|       65.0|      RM|     1880|       Normal|   265979|    Y|\n",
      "|992|      121.0|      RM|     1882|       Normal|   168000|    Y|\n",
      "|107|       60.0|      RM|     1885|       Normal|   100000|    Y|\n",
      "+---+-----------+--------+---------+-------------+---------+-----+\n",
      "only showing top 5 rows\n",
      "\n"
     ]
    }
   ],
   "source": [
    "# ASC\n",
    "gov_1_df.sort(gov_1_df['YearBuilt']).show(5)"
   ]
  },
  {
   "cell_type": "code",
   "execution_count": 20,
   "id": "reasonable-venezuela",
   "metadata": {},
   "outputs": [
    {
     "name": "stdout",
     "output_type": "stream",
     "text": [
      "+---+-----------+--------+---------+-------------+---------+-----+\n",
      "| Id|LotFrontage|MSZoning|YearBuilt|SaleCondition|SalePrice|Label|\n",
      "+---+-----------+--------+---------+-------------+---------+-----+\n",
      "|631|       50.0|      RM|     1880|      Abnorml|   124000|    Y|\n",
      "|748|       65.0|      RM|     1880|       Normal|   265979|    Y|\n",
      "|305|       87.0|      RM|     1880|       Normal|   295000|    Y|\n",
      "|992|      121.0|      RM|     1882|       Normal|   168000|    Y|\n",
      "|107|       60.0|      RM|     1885|       Normal|   100000|    Y|\n",
      "+---+-----------+--------+---------+-------------+---------+-----+\n",
      "only showing top 5 rows\n",
      "\n"
     ]
    }
   ],
   "source": [
    "# Multi-columns (ASC)\n",
    "gov_1_df.sort('YearBuilt', 'SalePrice').show(5)"
   ]
  },
  {
   "cell_type": "code",
   "execution_count": 26,
   "id": "comprehensive-brooklyn",
   "metadata": {},
   "outputs": [
    {
     "name": "stdout",
     "output_type": "stream",
     "text": [
      "+---+-----------+--------+---------+-------------+---------+-----+\n",
      "| Id|LotFrontage|MSZoning|YearBuilt|SaleCondition|SalePrice|Label|\n",
      "+---+-----------+--------+---------+-------------+---------+-----+\n",
      "|379|       88.0|      RL|     2010|      Partial|   394432|    Y|\n",
      "|158|       92.0|      RL|     2009|      Partial|   269500|    Y|\n",
      "|104|       94.0|      RL|     2009|       Normal|   198900|    Y|\n",
      "| 88|       40.0|      FV|     2009|      Partial|   164500|    Y|\n",
      "|212|       83.0|      RL|     2009|       Normal|   186000|    Y|\n",
      "+---+-----------+--------+---------+-------------+---------+-----+\n",
      "only showing top 5 rows\n",
      "\n"
     ]
    }
   ],
   "source": [
    "# DESC\n",
    "gov_1_df.sort(gov_1_df['YearBuilt'].desc()).show(5)"
   ]
  },
  {
   "cell_type": "code",
   "execution_count": 28,
   "id": "drawn-forward",
   "metadata": {},
   "outputs": [
    {
     "name": "stdout",
     "output_type": "stream",
     "text": [
      "+---+-----------+--------+---------+-------------+---------+-----+\n",
      "| Id|LotFrontage|MSZoning|YearBuilt|SaleCondition|SalePrice|Label|\n",
      "+---+-----------+--------+---------+-------------+---------+-----+\n",
      "|379|       88.0|      RL|     2010|      Partial|   394432|    Y|\n",
      "| 88|       40.0|      FV|     2009|      Partial|   164500|    Y|\n",
      "|915|       30.0|      FV|     2009|      Partial|   173733|    Y|\n",
      "|212|       83.0|      RL|     2009|       Normal|   186000|    Y|\n",
      "|104|       94.0|      RL|     2009|       Normal|   198900|    Y|\n",
      "+---+-----------+--------+---------+-------------+---------+-----+\n",
      "only showing top 5 rows\n",
      "\n"
     ]
    }
   ],
   "source": [
    "# Multi-columns (DESC & ASC)\n",
    "gov_1_df.sort(gov_1_df['YearBuilt'].desc(), gov_1_df['SalePrice']).show(5)"
   ]
  },
  {
   "cell_type": "markdown",
   "id": "specialized-devices",
   "metadata": {},
   "source": [
    "### Select"
   ]
  },
  {
   "cell_type": "code",
   "execution_count": 32,
   "id": "waiting-pressing",
   "metadata": {},
   "outputs": [
    {
     "name": "stdout",
     "output_type": "stream",
     "text": [
      "+---+-----------+--------+---------+-------------+---------+-----+\n",
      "| Id|LotFrontage|MSZoning|YearBuilt|SaleCondition|SalePrice|Label|\n",
      "+---+-----------+--------+---------+-------------+---------+-----+\n",
      "|  1|       65.0|      RL|     2003|       Normal|   208500|    Y|\n",
      "|  2|       80.0|      RL|     1976|       Normal|   181500|    Y|\n",
      "|  3|       68.0|      RL|     2001|       Normal|   223500|    Y|\n",
      "|  4|       60.0|      RL|     1915|      Abnorml|   140000|    Y|\n",
      "|  5|       84.0|      RL|     2000|       Normal|   250000|    Y|\n",
      "+---+-----------+--------+---------+-------------+---------+-----+\n",
      "only showing top 5 rows\n",
      "\n"
     ]
    }
   ],
   "source": [
    "gov_1_df.show(5)"
   ]
  },
  {
   "cell_type": "code",
   "execution_count": 31,
   "id": "joined-people",
   "metadata": {},
   "outputs": [
    {
     "name": "stdout",
     "output_type": "stream",
     "text": [
      "+---+-----------+---------+---------+\n",
      "| Id|LotFrontage|YearBuilt|SalePrice|\n",
      "+---+-----------+---------+---------+\n",
      "|  1|       65.0|     2003|   208500|\n",
      "|  2|       80.0|     1976|   181500|\n",
      "|  3|       68.0|     2001|   223500|\n",
      "|  4|       60.0|     1915|   140000|\n",
      "|  5|       84.0|     2000|   250000|\n",
      "+---+-----------+---------+---------+\n",
      "only showing top 5 rows\n",
      "\n"
     ]
    }
   ],
   "source": [
    "gov_1_df.select(['Id', 'LotFrontage', 'YearBuilt', 'SalePrice']).show(5)"
   ]
  },
  {
   "cell_type": "markdown",
   "id": "fixed-belle",
   "metadata": {
    "tags": []
   },
   "source": [
    "### Drop column(s)"
   ]
  },
  {
   "cell_type": "code",
   "execution_count": 33,
   "id": "meaning-stock",
   "metadata": {},
   "outputs": [
    {
     "name": "stdout",
     "output_type": "stream",
     "text": [
      "+---+-----------+--------+---------+-------------+---------+-----+\n",
      "| Id|LotFrontage|MSZoning|YearBuilt|SaleCondition|SalePrice|Label|\n",
      "+---+-----------+--------+---------+-------------+---------+-----+\n",
      "|  1|       65.0|      RL|     2003|       Normal|   208500|    Y|\n",
      "|  2|       80.0|      RL|     1976|       Normal|   181500|    Y|\n",
      "|  3|       68.0|      RL|     2001|       Normal|   223500|    Y|\n",
      "|  4|       60.0|      RL|     1915|      Abnorml|   140000|    Y|\n",
      "|  5|       84.0|      RL|     2000|       Normal|   250000|    Y|\n",
      "+---+-----------+--------+---------+-------------+---------+-----+\n",
      "only showing top 5 rows\n",
      "\n"
     ]
    }
   ],
   "source": [
    "gov_1_df.show(5)"
   ]
  },
  {
   "cell_type": "code",
   "execution_count": 38,
   "id": "lucky-hearts",
   "metadata": {},
   "outputs": [
    {
     "name": "stdout",
     "output_type": "stream",
     "text": [
      "+-----------+--------+---------+-------------+---------+\n",
      "|LotFrontage|MSZoning|YearBuilt|SaleCondition|SalePrice|\n",
      "+-----------+--------+---------+-------------+---------+\n",
      "|       65.0|      RL|     2003|       Normal|   208500|\n",
      "|       80.0|      RL|     1976|       Normal|   181500|\n",
      "|       68.0|      RL|     2001|       Normal|   223500|\n",
      "|       60.0|      RL|     1915|      Abnorml|   140000|\n",
      "|       84.0|      RL|     2000|       Normal|   250000|\n",
      "+-----------+--------+---------+-------------+---------+\n",
      "only showing top 5 rows\n",
      "\n"
     ]
    }
   ],
   "source": [
    "gov_1_df_dropped = gov_1_df.drop('Id', 'Label')\n",
    "gov_1_df_dropped.show(5)"
   ]
  },
  {
   "cell_type": "markdown",
   "id": "cellular-trading",
   "metadata": {},
   "source": [
    "### Join"
   ]
  },
  {
   "cell_type": "code",
   "execution_count": 44,
   "id": "qualified-marine",
   "metadata": {},
   "outputs": [
    {
     "name": "stdout",
     "output_type": "stream",
     "text": [
      "gov 1 df: Id, LotFrontage, MSZoning, YearBuilt, SaleCondition, SalePrice, Label\n",
      "house 1 df: Id, TotalBsmtSF, 1stFlrSF, 2ndFlrSF\n"
     ]
    }
   ],
   "source": [
    "print('gov 1 df:', ', '.join(gov_1_df.columns))\n",
    "print('house 1 df:', ', '.join(house_1_df.columns))"
   ]
  },
  {
   "cell_type": "code",
   "execution_count": 77,
   "id": "limited-disease",
   "metadata": {},
   "outputs": [
    {
     "name": "stdout",
     "output_type": "stream",
     "text": [
      "+---+-----------+--------+---------+-------------+---------+-----+-----------+--------+--------+\n",
      "| Id|LotFrontage|MSZoning|YearBuilt|SaleCondition|SalePrice|Label|TotalBsmtSF|1stFlrSF|2ndFlrSF|\n",
      "+---+-----------+--------+---------+-------------+---------+-----+-----------+--------+--------+\n",
      "|  1|       65.0|      RL|     2003|       Normal|   208500|    Y|        856|     856|     854|\n",
      "|  2|       80.0|      RL|     1976|       Normal|   181500|    Y|       1262|    1262|       0|\n",
      "|  3|       68.0|      RL|     2001|       Normal|   223500|    Y|        920|     920|     866|\n",
      "|  4|       60.0|      RL|     1915|      Abnorml|   140000|    Y|        756|     961|     756|\n",
      "|  5|       84.0|      RL|     2000|       Normal|   250000|    Y|       1145|    1145|    1053|\n",
      "+---+-----------+--------+---------+-------------+---------+-----+-----------+--------+--------+\n",
      "only showing top 5 rows\n",
      "\n"
     ]
    }
   ],
   "source": [
    "# <1st df>.join(<2nd df>, <FK>, <join type>)\n",
    "gov_house_1_df = gov_1_df.join(house_1_df, 'Id', 'left')\n",
    "gov_house_1_df.show(5)"
   ]
  },
  {
   "cell_type": "markdown",
   "id": "several-hamburg",
   "metadata": {},
   "source": [
    "### Union"
   ]
  },
  {
   "cell_type": "code",
   "execution_count": 46,
   "id": "second-remainder",
   "metadata": {},
   "outputs": [
    {
     "name": "stdout",
     "output_type": "stream",
     "text": [
      "house 1 df rows: 1000\n",
      "house 2 df rows: 460\n"
     ]
    }
   ],
   "source": [
    "print('house 1 df rows:', house_1_df.count())\n",
    "print('house 2 df rows:', house_2_df.count())"
   ]
  },
  {
   "cell_type": "code",
   "execution_count": 50,
   "id": "hourly-trading",
   "metadata": {},
   "outputs": [
    {
     "name": "stdout",
     "output_type": "stream",
     "text": [
      "house 1 union all house 2, rows: 1460\n"
     ]
    }
   ],
   "source": [
    "house_df_union = house_1_df.unionAll(house_2_df)\n",
    "print('house 1 union all house 2, rows:', house_df_union.count())"
   ]
  },
  {
   "cell_type": "markdown",
   "id": "reverse-funds",
   "metadata": {},
   "source": [
    "### Filter"
   ]
  },
  {
   "cell_type": "code",
   "execution_count": 51,
   "id": "turkish-mount",
   "metadata": {},
   "outputs": [
    {
     "name": "stdout",
     "output_type": "stream",
     "text": [
      "+---+-----------+--------+---------+-------------+---------+-----+\n",
      "| Id|LotFrontage|MSZoning|YearBuilt|SaleCondition|SalePrice|Label|\n",
      "+---+-----------+--------+---------+-------------+---------+-----+\n",
      "|  1|       65.0|      RL|     2003|       Normal|   208500|    Y|\n",
      "|  2|       80.0|      RL|     1976|       Normal|   181500|    Y|\n",
      "|  3|       68.0|      RL|     2001|       Normal|   223500|    Y|\n",
      "|  4|       60.0|      RL|     1915|      Abnorml|   140000|    Y|\n",
      "|  5|       84.0|      RL|     2000|       Normal|   250000|    Y|\n",
      "+---+-----------+--------+---------+-------------+---------+-----+\n",
      "only showing top 5 rows\n",
      "\n"
     ]
    }
   ],
   "source": [
    "gov_1_df.show(5)"
   ]
  },
  {
   "cell_type": "code",
   "execution_count": 54,
   "id": "honest-explorer",
   "metadata": {},
   "outputs": [
    {
     "name": "stdout",
     "output_type": "stream",
     "text": [
      "+---+-----------+--------+---------+-------------+---------+-----+\n",
      "| Id|LotFrontage|MSZoning|YearBuilt|SaleCondition|SalePrice|Label|\n",
      "+---+-----------+--------+---------+-------------+---------+-----+\n",
      "|  2|       80.0|      RL|     1976|       Normal|   181500|    Y|\n",
      "|  4|       60.0|      RL|     1915|      Abnorml|   140000|    Y|\n",
      "|  6|       85.0|      RL|     1993|       Normal|   143000|    Y|\n",
      "|  8|       null|      RL|     1973|       Normal|   200000|    Y|\n",
      "| 10|       50.0|      RL|     1939|       Normal|   118000|    Y|\n",
      "+---+-----------+--------+---------+-------------+---------+-----+\n",
      "only showing top 5 rows\n",
      "\n"
     ]
    }
   ],
   "source": [
    "# <dataframe>.filter(<condition>) --> condition as boolean\n",
    "gov_1_df.filter(gov_1_df['Id']%2 == 0).show(5)"
   ]
  },
  {
   "cell_type": "code",
   "execution_count": 56,
   "id": "rising-pound",
   "metadata": {},
   "outputs": [
    {
     "name": "stdout",
     "output_type": "stream",
     "text": [
      "+---+-----------+--------+---------+-------------+---------+-----+\n",
      "| Id|LotFrontage|MSZoning|YearBuilt|SaleCondition|SalePrice|Label|\n",
      "+---+-----------+--------+---------+-------------+---------+-----+\n",
      "|  1|       65.0|      RL|     2003|       Normal|   208500|    Y|\n",
      "|  2|       80.0|      RL|     1976|       Normal|   181500|    Y|\n",
      "|  3|       68.0|      RL|     2001|       Normal|   223500|    Y|\n",
      "|  4|       60.0|      RL|     1915|      Abnorml|   140000|    Y|\n",
      "|  5|       84.0|      RL|     2000|       Normal|   250000|    Y|\n",
      "+---+-----------+--------+---------+-------------+---------+-----+\n",
      "only showing top 5 rows\n",
      "\n"
     ]
    }
   ],
   "source": [
    "gov_1_df.filter(gov_1_df['LotFrontage'].isNotNull()).show(5)"
   ]
  },
  {
   "cell_type": "code",
   "execution_count": 57,
   "id": "extensive-stephen",
   "metadata": {},
   "outputs": [
    {
     "name": "stdout",
     "output_type": "stream",
     "text": [
      "+---+-----------+--------+---------+-------------+---------+-----+\n",
      "| Id|LotFrontage|MSZoning|YearBuilt|SaleCondition|SalePrice|Label|\n",
      "+---+-----------+--------+---------+-------------+---------+-----+\n",
      "|  8|       null|      RL|     1973|       Normal|   200000|    Y|\n",
      "| 13|       null|      RL|     1962|       Normal|   144000|    Y|\n",
      "| 15|       null|      RL|     1960|       Normal|   157000|    Y|\n",
      "| 17|       null|      RL|     1970|       Normal|   149000|    Y|\n",
      "| 25|       null|      RL|     1968|       Normal|   154000|    Y|\n",
      "+---+-----------+--------+---------+-------------+---------+-----+\n",
      "only showing top 5 rows\n",
      "\n"
     ]
    }
   ],
   "source": [
    "gov_1_df.filter(gov_1_df['LotFrontage'].isNull()).show(5)"
   ]
  },
  {
   "cell_type": "markdown",
   "id": "allied-sapphire",
   "metadata": {},
   "source": [
    "### Drop null values"
   ]
  },
  {
   "cell_type": "code",
   "execution_count": 65,
   "id": "latter-tower",
   "metadata": {},
   "outputs": [
    {
     "name": "stdout",
     "output_type": "stream",
     "text": [
      "+---+-----------+--------+---------+-------------+---------+-----+\n",
      "| Id|LotFrontage|MSZoning|YearBuilt|SaleCondition|SalePrice|Label|\n",
      "+---+-----------+--------+---------+-------------+---------+-----+\n",
      "|  2|       80.0|      RL|     1976|       Normal|   181500|    Y|\n",
      "|  4|       60.0|      RL|     1915|      Abnorml|   140000|    Y|\n",
      "|  6|       85.0|      RL|     1993|       Normal|   143000|    Y|\n",
      "|  8|       null|      RL|     1973|       Normal|   200000|    Y|\n",
      "| 10|       50.0|      RL|     1939|       Normal|   118000|    Y|\n",
      "+---+-----------+--------+---------+-------------+---------+-----+\n",
      "only showing top 5 rows\n",
      "\n"
     ]
    }
   ],
   "source": [
    "gov_1_df_even_Id = gov_1_df.filter(gov_1_df['Id']%2 == 0)\n",
    "gov_1_df_even_Id.show(5)"
   ]
  },
  {
   "cell_type": "code",
   "execution_count": 66,
   "id": "plain-scene",
   "metadata": {},
   "outputs": [
    {
     "name": "stdout",
     "output_type": "stream",
     "text": [
      "+---+-----------+--------+---------+-------------+---------+-----+\n",
      "| Id|LotFrontage|MSZoning|YearBuilt|SaleCondition|SalePrice|Label|\n",
      "+---+-----------+--------+---------+-------------+---------+-----+\n",
      "|  2|       80.0|      RL|     1976|       Normal|   181500|    Y|\n",
      "|  4|       60.0|      RL|     1915|      Abnorml|   140000|    Y|\n",
      "|  6|       85.0|      RL|     1993|       Normal|   143000|    Y|\n",
      "| 10|       50.0|      RL|     1939|       Normal|   118000|    Y|\n",
      "| 12|       85.0|      RL|     2005|      Partial|   345000|    Y|\n",
      "+---+-----------+--------+---------+-------------+---------+-----+\n",
      "only showing top 5 rows\n",
      "\n"
     ]
    }
   ],
   "source": [
    "gov_1_df_dropna = gov_1_df_even_Id.dropna()\n",
    "gov_1_df_dropna.show(5) # Id = 8 is gone"
   ]
  },
  {
   "cell_type": "markdown",
   "id": "bright-grave",
   "metadata": {},
   "source": [
    "### Replace null with another value"
   ]
  },
  {
   "cell_type": "code",
   "execution_count": 67,
   "id": "opposite-knowing",
   "metadata": {},
   "outputs": [
    {
     "name": "stdout",
     "output_type": "stream",
     "text": [
      "+---+-----------+--------+---------+-------------+---------+-----+\n",
      "| Id|LotFrontage|MSZoning|YearBuilt|SaleCondition|SalePrice|Label|\n",
      "+---+-----------+--------+---------+-------------+---------+-----+\n",
      "|  2|       80.0|      RL|     1976|       Normal|   181500|    Y|\n",
      "|  4|       60.0|      RL|     1915|      Abnorml|   140000|    Y|\n",
      "|  6|       85.0|      RL|     1993|       Normal|   143000|    Y|\n",
      "|  8|       null|      RL|     1973|       Normal|   200000|    Y|\n",
      "| 10|       50.0|      RL|     1939|       Normal|   118000|    Y|\n",
      "+---+-----------+--------+---------+-------------+---------+-----+\n",
      "only showing top 5 rows\n",
      "\n"
     ]
    }
   ],
   "source": [
    "gov_1_df_even_Id.show(5)"
   ]
  },
  {
   "cell_type": "code",
   "execution_count": 68,
   "id": "retained-examination",
   "metadata": {},
   "outputs": [
    {
     "name": "stdout",
     "output_type": "stream",
     "text": [
      "+---+-----------+--------+---------+-------------+---------+-----+\n",
      "| Id|LotFrontage|MSZoning|YearBuilt|SaleCondition|SalePrice|Label|\n",
      "+---+-----------+--------+---------+-------------+---------+-----+\n",
      "|  2|       80.0|      RL|     1976|       Normal|   181500|    Y|\n",
      "|  4|       60.0|      RL|     1915|      Abnorml|   140000|    Y|\n",
      "|  6|       85.0|      RL|     1993|       Normal|   143000|    Y|\n",
      "|  8|          -|      RL|     1973|       Normal|   200000|    Y|\n",
      "| 10|       50.0|      RL|     1939|       Normal|   118000|    Y|\n",
      "+---+-----------+--------+---------+-------------+---------+-----+\n",
      "only showing top 5 rows\n",
      "\n"
     ]
    }
   ],
   "source": [
    "gov_1_df_even_Id.fillna('-').show(5) # Id = 8 is changed"
   ]
  },
  {
   "cell_type": "markdown",
   "id": "apart-dream",
   "metadata": {},
   "source": [
    "### Change column data type"
   ]
  },
  {
   "cell_type": "code",
   "execution_count": 69,
   "id": "abstract-pontiac",
   "metadata": {},
   "outputs": [
    {
     "name": "stdout",
     "output_type": "stream",
     "text": [
      "root\n",
      " |-- Id: string (nullable = true)\n",
      " |-- LotFrontage: string (nullable = true)\n",
      " |-- MSZoning: string (nullable = true)\n",
      " |-- YearBuilt: string (nullable = true)\n",
      " |-- SaleCondition: string (nullable = true)\n",
      " |-- SalePrice: string (nullable = true)\n",
      " |-- Label: string (nullable = true)\n",
      "\n"
     ]
    }
   ],
   "source": [
    "gov_1_df_even_Id.printSchema()"
   ]
  },
  {
   "cell_type": "code",
   "execution_count": 73,
   "id": "theoretical-contrary",
   "metadata": {},
   "outputs": [],
   "source": [
    "gov_1_df_even_Id = gov_1_df_even_Id.withColumn('SalePrice', gov_1_df_even_Id['SalePrice'].cast('int'))"
   ]
  },
  {
   "cell_type": "code",
   "execution_count": 74,
   "id": "compliant-numbers",
   "metadata": {},
   "outputs": [
    {
     "name": "stdout",
     "output_type": "stream",
     "text": [
      "root\n",
      " |-- Id: string (nullable = true)\n",
      " |-- LotFrontage: string (nullable = true)\n",
      " |-- MSZoning: string (nullable = true)\n",
      " |-- YearBuilt: string (nullable = true)\n",
      " |-- SaleCondition: string (nullable = true)\n",
      " |-- SalePrice: integer (nullable = true)\n",
      " |-- Label: string (nullable = true)\n",
      "\n"
     ]
    }
   ],
   "source": [
    "gov_1_df_even_Id.printSchema()"
   ]
  },
  {
   "cell_type": "markdown",
   "id": "painted-vacation",
   "metadata": {},
   "source": [
    "### View statistic values (summary)"
   ]
  },
  {
   "cell_type": "code",
   "execution_count": 79,
   "id": "vietnamese-franklin",
   "metadata": {},
   "outputs": [
    {
     "name": "stdout",
     "output_type": "stream",
     "text": [
      "+-------+-----------------+------------------+--------+------------------+-------------+-----------------+-----+-----------------+------------------+-----------------+\n",
      "|summary|               Id|       LotFrontage|MSZoning|         YearBuilt|SaleCondition|        SalePrice|Label|      TotalBsmtSF|          1stFlrSF|         2ndFlrSF|\n",
      "+-------+-----------------+------------------+--------+------------------+-------------+-----------------+-----+-----------------+------------------+-----------------+\n",
      "|  count|             1000|               827|    1000|              1000|         1000|             1000| 1000|             1000|              1000|             1000|\n",
      "|   mean|            500.5|  69.9552599758162|    null|          1971.633|         null|       182284.451| null|         1061.312|          1156.953|          347.066|\n",
      "| stddev|288.8194360957494|23.202690016333754|    null|30.007945410970535|         null|80291.21520726325| null|421.9458886978153|375.21580149120695|437.8827365116544|\n",
      "|    min|                1|             100.0| C (all)|              1880|      Abnorml|           100000|    Y|                0|              1001|                0|\n",
      "|    max|              999|              99.0|      RM|              2010|      Partial|            99500|    Y|              999|               999|              988|\n",
      "+-------+-----------------+------------------+--------+------------------+-------------+-----------------+-----+-----------------+------------------+-----------------+\n",
      "\n"
     ]
    }
   ],
   "source": [
    "gov_house_1_df.describe().show() # please zoom out"
   ]
  },
  {
   "cell_type": "markdown",
   "id": "nervous-burke",
   "metadata": {},
   "source": [
    "### Aggregate (import aggregate functions)"
   ]
  },
  {
   "cell_type": "code",
   "execution_count": 94,
   "id": "electrical-michael",
   "metadata": {},
   "outputs": [],
   "source": [
    "# avg, mean, count, sum, stddev\n",
    "from pyspark.sql.functions import avg, mean, count, sum, stddev, max"
   ]
  },
  {
   "cell_type": "code",
   "execution_count": 86,
   "id": "promotional-oxford",
   "metadata": {},
   "outputs": [
    {
     "name": "stdout",
     "output_type": "stream",
     "text": [
      "+---+-----------+--------+---------+-------------+---------+-----+-----------+--------+--------+\n",
      "| Id|LotFrontage|MSZoning|YearBuilt|SaleCondition|SalePrice|Label|TotalBsmtSF|1stFlrSF|2ndFlrSF|\n",
      "+---+-----------+--------+---------+-------------+---------+-----+-----------+--------+--------+\n",
      "|  1|       65.0|      RL|     2003|       Normal|   208500|    Y|        856|     856|     854|\n",
      "|  2|       80.0|      RL|     1976|       Normal|   181500|    Y|       1262|    1262|       0|\n",
      "|  3|       68.0|      RL|     2001|       Normal|   223500|    Y|        920|     920|     866|\n",
      "|  4|       60.0|      RL|     1915|      Abnorml|   140000|    Y|        756|     961|     756|\n",
      "|  5|       84.0|      RL|     2000|       Normal|   250000|    Y|       1145|    1145|    1053|\n",
      "+---+-----------+--------+---------+-------------+---------+-----+-----------+--------+--------+\n",
      "only showing top 5 rows\n",
      "\n"
     ]
    }
   ],
   "source": [
    "gov_house_1_df.show(5)"
   ]
  },
  {
   "cell_type": "code",
   "execution_count": 96,
   "id": "familiar-instrument",
   "metadata": {},
   "outputs": [
    {
     "name": "stdout",
     "output_type": "stream",
     "text": [
      "+----------------+\n",
      "|sum(LotFrontage)|\n",
      "+----------------+\n",
      "|         57853.0|\n",
      "+----------------+\n",
      "\n"
     ]
    }
   ],
   "source": [
    "gov_house_1_df.agg(sum('LotFrontage')).show()"
   ]
  },
  {
   "cell_type": "code",
   "execution_count": 97,
   "id": "precise-mexico",
   "metadata": {},
   "outputs": [
    {
     "name": "stdout",
     "output_type": "stream",
     "text": [
      "+----------------+\n",
      "|max(LotFrontage)|\n",
      "+----------------+\n",
      "|            99.0|\n",
      "+----------------+\n",
      "\n"
     ]
    }
   ],
   "source": [
    "gov_house_1_df.agg(max('LotFrontage')).show()"
   ]
  },
  {
   "cell_type": "markdown",
   "id": "numerical-assembly",
   "metadata": {},
   "source": [
    "### groupby"
   ]
  },
  {
   "cell_type": "code",
   "execution_count": 104,
   "id": "floppy-revolution",
   "metadata": {},
   "outputs": [
    {
     "name": "stdout",
     "output_type": "stream",
     "text": [
      "+---+-----------+--------+---------+-------------+---------+-----+\n",
      "| Id|LotFrontage|MSZoning|YearBuilt|SaleCondition|SalePrice|Label|\n",
      "+---+-----------+--------+---------+-------------+---------+-----+\n",
      "|  2|       80.0|      RL|     1976|       Normal|   181500|    Y|\n",
      "|  4|       60.0|      RL|     1915|      Abnorml|   140000|    Y|\n",
      "|  6|       85.0|      RL|     1993|       Normal|   143000|    Y|\n",
      "|  8|       null|      RL|     1973|       Normal|   200000|    Y|\n",
      "| 10|       50.0|      RL|     1939|       Normal|   118000|    Y|\n",
      "+---+-----------+--------+---------+-------------+---------+-----+\n",
      "only showing top 5 rows\n",
      "\n"
     ]
    }
   ],
   "source": [
    "gov_1_df_even_Id.show(5)"
   ]
  },
  {
   "cell_type": "code",
   "execution_count": 105,
   "id": "false-healing",
   "metadata": {},
   "outputs": [
    {
     "name": "stdout",
     "output_type": "stream",
     "text": [
      "+--------+------------------+\n",
      "|MSZoning|    avg(SalePrice)|\n",
      "+--------+------------------+\n",
      "| C (all)|           94894.0|\n",
      "|      RH|          129326.0|\n",
      "|      FV|      211996.15625|\n",
      "|      RL| 194051.0505319149|\n",
      "|      RM|129319.81012658228|\n",
      "+--------+------------------+\n",
      "\n"
     ]
    }
   ],
   "source": [
    "gov_1_df_even_Id.groupby('MSZoning').avg('SalePrice').show()"
   ]
  },
  {
   "cell_type": "markdown",
   "id": "tamil-updating",
   "metadata": {},
   "source": [
    "### Create and manipulate column"
   ]
  },
  {
   "cell_type": "code",
   "execution_count": 106,
   "id": "rolled-drinking",
   "metadata": {},
   "outputs": [
    {
     "name": "stdout",
     "output_type": "stream",
     "text": [
      "+---+-----------+--------+---------+-------------+---------+-----+-----------+--------+--------+\n",
      "| Id|LotFrontage|MSZoning|YearBuilt|SaleCondition|SalePrice|Label|TotalBsmtSF|1stFlrSF|2ndFlrSF|\n",
      "+---+-----------+--------+---------+-------------+---------+-----+-----------+--------+--------+\n",
      "|  1|       65.0|      RL|     2003|       Normal|   208500|    Y|        856|     856|     854|\n",
      "|  2|       80.0|      RL|     1976|       Normal|   181500|    Y|       1262|    1262|       0|\n",
      "|  3|       68.0|      RL|     2001|       Normal|   223500|    Y|        920|     920|     866|\n",
      "|  4|       60.0|      RL|     1915|      Abnorml|   140000|    Y|        756|     961|     756|\n",
      "|  5|       84.0|      RL|     2000|       Normal|   250000|    Y|       1145|    1145|    1053|\n",
      "+---+-----------+--------+---------+-------------+---------+-----+-----------+--------+--------+\n",
      "only showing top 5 rows\n",
      "\n"
     ]
    }
   ],
   "source": [
    "gov_house_1_df.show(5)"
   ]
  },
  {
   "cell_type": "code",
   "execution_count": 108,
   "id": "numerous-calvin",
   "metadata": {},
   "outputs": [
    {
     "name": "stdout",
     "output_type": "stream",
     "text": [
      "+---+-----------+--------+---------+-------------+---------+-----+-----------+--------+--------+---------+\n",
      "| Id|LotFrontage|MSZoning|YearBuilt|SaleCondition|SalePrice|Label|TotalBsmtSF|1stFlrSF|2ndFlrSF|TotalArea|\n",
      "+---+-----------+--------+---------+-------------+---------+-----+-----------+--------+--------+---------+\n",
      "|  1|       65.0|      RL|     2003|       Normal|   208500|    Y|        856|     856|     854|   2566.0|\n",
      "|  2|       80.0|      RL|     1976|       Normal|   181500|    Y|       1262|    1262|       0|   2524.0|\n",
      "|  3|       68.0|      RL|     2001|       Normal|   223500|    Y|        920|     920|     866|   2706.0|\n",
      "|  4|       60.0|      RL|     1915|      Abnorml|   140000|    Y|        756|     961|     756|   2473.0|\n",
      "|  5|       84.0|      RL|     2000|       Normal|   250000|    Y|       1145|    1145|    1053|   3343.0|\n",
      "+---+-----------+--------+---------+-------------+---------+-----+-----------+--------+--------+---------+\n",
      "only showing top 5 rows\n",
      "\n"
     ]
    }
   ],
   "source": [
    "gov_house_1_df.withColumn('TotalArea',\\\n",
    "                          gov_house_1_df['TotalBsmtSF']+gov_house_1_df['1stFlrSF']+gov_house_1_df['2ndFlrSF'])\\\n",
    "              .show(5)"
   ]
  },
  {
   "cell_type": "markdown",
   "id": "chicken-tumor",
   "metadata": {
    "tags": []
   },
   "source": [
    "### Change to Pandas format"
   ]
  },
  {
   "cell_type": "code",
   "execution_count": 109,
   "id": "parliamentary-estate",
   "metadata": {},
   "outputs": [
    {
     "name": "stdout",
     "output_type": "stream",
     "text": [
      "+---+-----------+--------+---------+-------------+---------+-----+-----------+--------+--------+\n",
      "| Id|LotFrontage|MSZoning|YearBuilt|SaleCondition|SalePrice|Label|TotalBsmtSF|1stFlrSF|2ndFlrSF|\n",
      "+---+-----------+--------+---------+-------------+---------+-----+-----------+--------+--------+\n",
      "|  1|       65.0|      RL|     2003|       Normal|   208500|    Y|        856|     856|     854|\n",
      "|  2|       80.0|      RL|     1976|       Normal|   181500|    Y|       1262|    1262|       0|\n",
      "|  3|       68.0|      RL|     2001|       Normal|   223500|    Y|        920|     920|     866|\n",
      "|  4|       60.0|      RL|     1915|      Abnorml|   140000|    Y|        756|     961|     756|\n",
      "|  5|       84.0|      RL|     2000|       Normal|   250000|    Y|       1145|    1145|    1053|\n",
      "+---+-----------+--------+---------+-------------+---------+-----+-----------+--------+--------+\n",
      "only showing top 5 rows\n",
      "\n"
     ]
    }
   ],
   "source": [
    "gov_house_1_df.show(5)"
   ]
  },
  {
   "cell_type": "code",
   "execution_count": 111,
   "id": "municipal-remove",
   "metadata": {},
   "outputs": [
    {
     "data": {
      "text/html": [
       "<div>\n",
       "<style scoped>\n",
       "    .dataframe tbody tr th:only-of-type {\n",
       "        vertical-align: middle;\n",
       "    }\n",
       "\n",
       "    .dataframe tbody tr th {\n",
       "        vertical-align: top;\n",
       "    }\n",
       "\n",
       "    .dataframe thead th {\n",
       "        text-align: right;\n",
       "    }\n",
       "</style>\n",
       "<table border=\"1\" class=\"dataframe\">\n",
       "  <thead>\n",
       "    <tr style=\"text-align: right;\">\n",
       "      <th></th>\n",
       "      <th>Id</th>\n",
       "      <th>LotFrontage</th>\n",
       "      <th>MSZoning</th>\n",
       "      <th>YearBuilt</th>\n",
       "      <th>SaleCondition</th>\n",
       "      <th>SalePrice</th>\n",
       "      <th>Label</th>\n",
       "      <th>TotalBsmtSF</th>\n",
       "      <th>1stFlrSF</th>\n",
       "      <th>2ndFlrSF</th>\n",
       "    </tr>\n",
       "  </thead>\n",
       "  <tbody>\n",
       "    <tr>\n",
       "      <th>0</th>\n",
       "      <td>1</td>\n",
       "      <td>65.0</td>\n",
       "      <td>RL</td>\n",
       "      <td>2003</td>\n",
       "      <td>Normal</td>\n",
       "      <td>208500</td>\n",
       "      <td>Y</td>\n",
       "      <td>856</td>\n",
       "      <td>856</td>\n",
       "      <td>854</td>\n",
       "    </tr>\n",
       "    <tr>\n",
       "      <th>1</th>\n",
       "      <td>2</td>\n",
       "      <td>80.0</td>\n",
       "      <td>RL</td>\n",
       "      <td>1976</td>\n",
       "      <td>Normal</td>\n",
       "      <td>181500</td>\n",
       "      <td>Y</td>\n",
       "      <td>1262</td>\n",
       "      <td>1262</td>\n",
       "      <td>0</td>\n",
       "    </tr>\n",
       "    <tr>\n",
       "      <th>2</th>\n",
       "      <td>3</td>\n",
       "      <td>68.0</td>\n",
       "      <td>RL</td>\n",
       "      <td>2001</td>\n",
       "      <td>Normal</td>\n",
       "      <td>223500</td>\n",
       "      <td>Y</td>\n",
       "      <td>920</td>\n",
       "      <td>920</td>\n",
       "      <td>866</td>\n",
       "    </tr>\n",
       "    <tr>\n",
       "      <th>3</th>\n",
       "      <td>4</td>\n",
       "      <td>60.0</td>\n",
       "      <td>RL</td>\n",
       "      <td>1915</td>\n",
       "      <td>Abnorml</td>\n",
       "      <td>140000</td>\n",
       "      <td>Y</td>\n",
       "      <td>756</td>\n",
       "      <td>961</td>\n",
       "      <td>756</td>\n",
       "    </tr>\n",
       "    <tr>\n",
       "      <th>4</th>\n",
       "      <td>5</td>\n",
       "      <td>84.0</td>\n",
       "      <td>RL</td>\n",
       "      <td>2000</td>\n",
       "      <td>Normal</td>\n",
       "      <td>250000</td>\n",
       "      <td>Y</td>\n",
       "      <td>1145</td>\n",
       "      <td>1145</td>\n",
       "      <td>1053</td>\n",
       "    </tr>\n",
       "  </tbody>\n",
       "</table>\n",
       "</div>"
      ],
      "text/plain": [
       "  Id LotFrontage MSZoning YearBuilt SaleCondition SalePrice Label TotalBsmtSF  \\\n",
       "0  1        65.0       RL      2003        Normal    208500     Y         856   \n",
       "1  2        80.0       RL      1976        Normal    181500     Y        1262   \n",
       "2  3        68.0       RL      2001        Normal    223500     Y         920   \n",
       "3  4        60.0       RL      1915       Abnorml    140000     Y         756   \n",
       "4  5        84.0       RL      2000        Normal    250000     Y        1145   \n",
       "\n",
       "  1stFlrSF 2ndFlrSF  \n",
       "0      856      854  \n",
       "1     1262        0  \n",
       "2      920      866  \n",
       "3      961      756  \n",
       "4     1145     1053  "
      ]
     },
     "execution_count": 111,
     "metadata": {},
     "output_type": "execute_result"
    }
   ],
   "source": [
    "gov_house_1_df.toPandas().head()"
   ]
  },
  {
   "cell_type": "markdown",
   "id": "given-automation",
   "metadata": {},
   "source": [
    "### Write result"
   ]
  },
  {
   "cell_type": "code",
   "execution_count": 113,
   "id": "understood-conducting",
   "metadata": {},
   "outputs": [],
   "source": [
    "gov_house_1_df.write.format('csv').options(delimiter=',', header=True)\\\n",
    "              .save('housedata/Branch1_HouseGovCombine')"
   ]
  },
  {
   "cell_type": "code",
   "execution_count": null,
   "id": "political-grill",
   "metadata": {},
   "outputs": [],
   "source": []
  }
 ],
 "metadata": {
  "kernelspec": {
   "display_name": "PySpark 2.4.7",
   "language": "python",
   "name": "pyspark"
  },
  "language_info": {
   "codemirror_mode": {
    "name": "ipython",
    "version": 3
   },
   "file_extension": ".py",
   "mimetype": "text/x-python",
   "name": "python",
   "nbconvert_exporter": "python",
   "pygments_lexer": "ipython3",
   "version": "3.6.8"
  }
 },
 "nbformat": 4,
 "nbformat_minor": 5
}
