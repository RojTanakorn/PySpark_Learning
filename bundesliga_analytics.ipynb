{
 "cells": [
  {
   "cell_type": "markdown",
   "id": "partial-cooling",
   "metadata": {
    "tags": []
   },
   "source": [
    "# Bundesliga Analytics\n",
    "### PySpark practice aiming to analyzes and answers the following questions:\n",
    "1. Who are the winners of the D1 division in the Germany Football Association (Bundesliga) in the last decade?\n",
    "2. Which teams have been relegated in the past 10 years?\n",
    "3. What's the best month to watch Bundesliga? (based on last 10 seasons)\n",
    "4. Does Octoberfest affect the performance of Bundesliga?\n",
    "5. Which season of Bundesliga was the most competitive in the last decade?"
   ]
  },
  {
   "cell_type": "code",
   "execution_count": 1,
   "id": "brown-front",
   "metadata": {},
   "outputs": [
    {
     "data": {
      "text/html": [
       "\n",
       "        <div>\n",
       "            <p><b>SparkContext</b></p>\n",
       "\n",
       "            <p><a href=\"http://cpe325.localcluster:4040\">Spark UI</a></p>\n",
       "\n",
       "            <dl>\n",
       "              <dt>Version</dt>\n",
       "                <dd><code>v2.4.7</code></dd>\n",
       "              <dt>Master</dt>\n",
       "                <dd><code>local[*]</code></dd>\n",
       "              <dt>AppName</dt>\n",
       "                <dd><code>pyspark-shell</code></dd>\n",
       "            </dl>\n",
       "        </div>\n",
       "        "
      ],
      "text/plain": [
       "<SparkContext master=local[*] appName=pyspark-shell>"
      ]
     },
     "execution_count": 1,
     "metadata": {},
     "output_type": "execute_result"
    }
   ],
   "source": [
    "sc"
   ]
  },
  {
   "cell_type": "code",
   "execution_count": 2,
   "id": "greenhouse-academy",
   "metadata": {},
   "outputs": [],
   "source": [
    "from pyspark.sql.window import Window\n",
    "from pyspark.sql.functions import when, sum, max, rank, count, lead, avg"
   ]
  },
  {
   "cell_type": "code",
   "execution_count": 3,
   "id": "received-chest",
   "metadata": {},
   "outputs": [
    {
     "name": "stdout",
     "output_type": "stream",
     "text": [
      "+--------+---+------+----------+-------------+--------------+---------+---------+-----------+\n",
      "|Match_ID|Div|Season|      Date|     HomeTeam|      AwayTeam|HomeGoals|AwayGoals|MatchResult|\n",
      "+--------+---+------+----------+-------------+--------------+---------+---------+-----------+\n",
      "|       1| D2|  2009|2010-04-04|   Oberhausen|Kaiserslautern|        2|        1|          H|\n",
      "|       2| D2|  2009|2009-11-01|  Munich 1860|Kaiserslautern|        0|        1|          A|\n",
      "|       3| D2|  2009|2009-10-04|Frankfurt FSV|Kaiserslautern|        1|        1|          D|\n",
      "|       4| D2|  2009|2010-02-21|Frankfurt FSV|     Karlsruhe|        2|        1|          H|\n",
      "|       5| D2|  2009|2009-12-06|        Ahlen|     Karlsruhe|        1|        3|          A|\n",
      "+--------+---+------+----------+-------------+--------------+---------+---------+-----------+\n",
      "only showing top 5 rows\n",
      "\n"
     ]
    }
   ],
   "source": [
    "df_matches = spark.read.format('csv').options(header=True).load('bundesliga_data/Matches.csv')\n",
    "df_matches = df_matches \\\n",
    "                .withColumn('Match_ID', df_matches.Match_ID.cast('int')) \\\n",
    "                .withColumn('Season', df_matches.Season.cast('int')) \\\n",
    "                .withColumn('FTHG', df_matches.FTHG.cast('int')) \\\n",
    "                .withColumn('FTAG', df_matches.FTAG.cast('int')) \\\n",
    "                .withColumnRenamed('FTHG', 'HomeGoals') \\\n",
    "                .withColumnRenamed('FTAG', 'AwayGoals') \\\n",
    "                .withColumnRenamed('FTR', 'MatchResult')\n",
    "df_matches.show(5)"
   ]
  },
  {
   "cell_type": "code",
   "execution_count": 4,
   "id": "congressional-forward",
   "metadata": {},
   "outputs": [
    {
     "name": "stdout",
     "output_type": "stream",
     "text": [
      "+------+-------------+---------+----------+------------------+----------------------+------------------+---------------+\n",
      "|Season|     TeamName|KaderHome|AvgAgeHome|ForeignPlayersHome|OverallMarketValueHome|AvgMarketValueHome|StadiumCapacity|\n",
      "+------+-------------+---------+----------+------------------+----------------------+------------------+---------------+\n",
      "|  2017|Bayern Munich|       27|        26|                15|             597950000|          22150000|          75000|\n",
      "|  2017|     Dortmund|       33|        25|                18|             416730000|          12630000|          81359|\n",
      "|  2017|   Leverkusen|       31|        24|                15|             222600000|           7180000|          30210|\n",
      "|  2017|   RB Leipzig|       30|        23|                15|             180130000|           6000000|          42959|\n",
      "|  2017|   Schalke 04|       29|        24|                17|             179550000|           6190000|          62271|\n",
      "+------+-------------+---------+----------+------------------+----------------------+------------------+---------------+\n",
      "only showing top 5 rows\n",
      "\n"
     ]
    }
   ],
   "source": [
    "df_teams = spark.read.format('csv').options(header=True).load('bundesliga_data/Teams.csv')\n",
    "df_teams.show(5)"
   ]
  },
  {
   "cell_type": "code",
   "execution_count": 5,
   "id": "automotive-british",
   "metadata": {},
   "outputs": [
    {
     "name": "stdout",
     "output_type": "stream",
     "text": [
      "+--------+--------------+\n",
      "|Match_ID|Unique_Team_ID|\n",
      "+--------+--------------+\n",
      "|       1|            26|\n",
      "|       1|            46|\n",
      "|       2|            26|\n",
      "|       2|            42|\n",
      "|       3|            26|\n",
      "+--------+--------------+\n",
      "only showing top 5 rows\n",
      "\n"
     ]
    }
   ],
   "source": [
    "df_teams_in_matches = spark.read.format('csv').options(header=True).load('bundesliga_data/Teams_in_Matches.csv')\n",
    "df_teams_in_matches.show(5)"
   ]
  },
  {
   "cell_type": "code",
   "execution_count": 6,
   "id": "direct-enemy",
   "metadata": {},
   "outputs": [
    {
     "name": "stdout",
     "output_type": "stream",
     "text": [
      "+-------------+--------------+\n",
      "|     TeamName|Unique_Team_ID|\n",
      "+-------------+--------------+\n",
      "|Bayern Munich|             1|\n",
      "|     Dortmund|             2|\n",
      "|   Leverkusen|             3|\n",
      "|   RB Leipzig|             4|\n",
      "|   Schalke 04|             5|\n",
      "+-------------+--------------+\n",
      "only showing top 5 rows\n",
      "\n"
     ]
    }
   ],
   "source": [
    "df_unique_teams = spark.read.format('csv').options(header=True).load('bundesliga_data/Unique_Teams.csv')\n",
    "df_unique_teams.show(5)"
   ]
  },
  {
   "cell_type": "markdown",
   "id": "alternate-celebrity",
   "metadata": {},
   "source": [
    "## 1. Who are the winners of the D1 division in the Germany Football Association (Bundesliga) in the last decade?"
   ]
  },
  {
   "cell_type": "code",
   "execution_count": 7,
   "id": "atmospheric-clause",
   "metadata": {},
   "outputs": [
    {
     "name": "stdout",
     "output_type": "stream",
     "text": [
      "+--------+---+------+----------+--------------+--------------+---------+---------+-----------+\n",
      "|Match_ID|Div|Season|      Date|      HomeTeam|      AwayTeam|HomeGoals|AwayGoals|MatchResult|\n",
      "+--------+---+------+----------+--------------+--------------+---------+---------+-----------+\n",
      "|       1| D2|  2009|2010-04-04|    Oberhausen|Kaiserslautern|        2|        1|          H|\n",
      "|       2| D2|  2009|2009-11-01|   Munich 1860|Kaiserslautern|        0|        1|          A|\n",
      "|       3| D2|  2009|2009-10-04| Frankfurt FSV|Kaiserslautern|        1|        1|          D|\n",
      "|       4| D2|  2009|2010-02-21| Frankfurt FSV|     Karlsruhe|        2|        1|          H|\n",
      "|       5| D2|  2009|2009-12-06|         Ahlen|     Karlsruhe|        1|        3|          A|\n",
      "|       6| D2|  2009|2010-04-03|  Union Berlin|     Karlsruhe|        1|        1|          D|\n",
      "|       7| D2|  2009|2009-08-14|     Paderborn|     Karlsruhe|        2|        0|          H|\n",
      "|       8| D2|  2009|2010-03-08|     Bielefeld|     Karlsruhe|        0|        1|          A|\n",
      "|       9| D2|  2009|2009-09-26|Kaiserslautern|     Karlsruhe|        2|        0|          H|\n",
      "|      10| D2|  2009|2009-11-21| Hansa Rostock|     Karlsruhe|        2|        1|          H|\n",
      "+--------+---+------+----------+--------------+--------------+---------+---------+-----------+\n",
      "only showing top 10 rows\n",
      "\n"
     ]
    }
   ],
   "source": [
    "df_matches.show(10)"
   ]
  },
  {
   "cell_type": "code",
   "execution_count": 8,
   "id": "covered-extraction",
   "metadata": {},
   "outputs": [
    {
     "name": "stdout",
     "output_type": "stream",
     "text": [
      "+--------+---+------+----------+-------------+----------+---------+---------+-----------+---------+---------+-------+-------+----+\n",
      "|Match_ID|Div|Season|      Date|     HomeTeam|  AwayTeam|HomeGoals|AwayGoals|MatchResult|HomePoint|AwayPoint|HomeWin|AwayWin|Draw|\n",
      "+--------+---+------+----------+-------------+----------+---------+---------+-----------+---------+---------+-------+-------+----+\n",
      "|      21| D1|  2009|2010-02-06|       Bochum|Leverkusen|        1|        1|          D|        1|        1|      0|      0|   1|\n",
      "|      22| D1|  2009|2009-11-22|Bayern Munich|Leverkusen|        1|        1|          D|        1|        1|      0|      0|   1|\n",
      "|      23| D1|  2009|2010-05-08|   M'gladbach|Leverkusen|        1|        1|          D|        1|        1|      0|      0|   1|\n",
      "|      24| D1|  2009|2009-08-08|        Mainz|Leverkusen|        2|        2|          D|        1|        1|      0|      0|   1|\n",
      "|      25| D1|  2009|2009-10-17|      Hamburg|Leverkusen|        0|        0|          D|        1|        1|      0|      0|   1|\n",
      "|      26| D1|  2009|2010-04-17|    Stuttgart|Leverkusen|        2|        1|          H|        3|        0|      1|      0|   0|\n",
      "|      27| D1|  2009|2010-03-20|     Dortmund|Leverkusen|        3|        0|          H|        3|        0|      1|      0|   0|\n",
      "|      28| D1|  2009|2009-10-31|   Schalke 04|Leverkusen|        2|        2|          D|        1|        1|      0|      0|   1|\n",
      "|      29| D1|  2009|2009-08-22|     Freiburg|Leverkusen|        0|        5|          A|        0|        3|      0|      1|   0|\n",
      "|      30| D1|  2009|2010-02-21|Werder Bremen|Leverkusen|        2|        2|          D|        1|        1|      0|      0|   1|\n",
      "+--------+---+------+----------+-------------+----------+---------+---------+-----------+---------+---------+-------+-------+----+\n",
      "only showing top 10 rows\n",
      "\n"
     ]
    }
   ],
   "source": [
    "df_D1_matches = df_matches.filter((df_matches['Div']=='D1') & ((df_matches['HomeGoals']>=0) & (df_matches['AwayGoals']>=0))) \\\n",
    "        .withColumn('HomePoint', \n",
    "                        when(df_matches['MatchResult'] == 'H', 3)\n",
    "                        .when(df_matches['MatchResult'] == 'D', 1)\n",
    "                        .otherwise(0)\n",
    "                   ) \\\n",
    "        .withColumn('AwayPoint', \n",
    "                        when(df_matches['MatchResult'] == 'A', 3)\n",
    "                        .when(df_matches['MatchResult'] == 'D', 1)\n",
    "                        .otherwise(0)\n",
    "                   ) \\\n",
    "        .withColumn('HomeWin', \n",
    "                        when(df_matches['MatchResult'] == 'H', 1)\n",
    "                        .otherwise(0)\n",
    "                   ) \\\n",
    "        .withColumn('AwayWin', \n",
    "                        when(df_matches['MatchResult'] == 'A', 1)\n",
    "                        .otherwise(0)\n",
    "                   ) \\\n",
    "        .withColumn('Draw', \n",
    "                        when(df_matches['MatchResult'] == 'D', 1)\n",
    "                        .otherwise(0)\n",
    "                   )\n",
    "\n",
    "df_D1_matches.show(10)"
   ]
  },
  {
   "cell_type": "code",
   "execution_count": 9,
   "id": "tracked-stuff",
   "metadata": {},
   "outputs": [
    {
     "name": "stdout",
     "output_type": "stream",
     "text": [
      "+------+--------------+----+-----+-----+--------+------------+---------+--------------------+\n",
      "|Season|          Team|Wins|Draws|Loses|GoalsFor|GoalsAgainst|GoalsDiff|TotalPointsPerSeason|\n",
      "+------+--------------+----+-----+-----+--------+------------+---------+--------------------+\n",
      "|  1993|    M'Gladbach|  14|    7|   13|      65|          59|        6|                  49|\n",
      "|  1993|     Stuttgart|  13|   11|   10|      51|          43|        8|                  50|\n",
      "|  1993|       Dresden|  10|   14|   10|      33|          44|      -11|                  44|\n",
      "|  1993|      Freiburg|  10|    8|   16|      54|          57|       -3|                  38|\n",
      "|  1993|  Wattenscheid|   6|   11|   17|      48|          70|      -22|                  29|\n",
      "|  1993|      Duisburg|  14|    8|   12|      41|          52|      -11|                  50|\n",
      "|  1993| Werder Bremen|  13|   10|   11|      51|          44|        7|                  49|\n",
      "|  1993|      Dortmund|  15|    9|   10|      49|          45|        4|                  54|\n",
      "|  1993| Bayern Munich|  17|   10|    7|      68|          37|       31|                  61|\n",
      "|  1993|Kaiserslautern|  18|    7|    9|      64|          36|       28|                  61|\n",
      "+------+--------------+----+-----+-----+--------+------------+---------+--------------------+\n",
      "only showing top 10 rows\n",
      "\n"
     ]
    }
   ],
   "source": [
    "df_D1_season_summary = df_D1_matches.groupby('Season', 'HomeTeam') \\\n",
    "                .agg(\n",
    "                        sum('HomePoint').alias('HomePointsPerSeason'),\n",
    "                        sum('HomeGoals').alias('HGoalsFor'),\n",
    "                        sum('AwayGoals').alias('HGoalsAgainst'),\n",
    "                        sum('HomeWin').alias('HWins'),\n",
    "                        sum('AwayWin').alias('HLoses'),\n",
    "                        sum('Draw').alias('HDraw')\n",
    "                    ) \\\n",
    "                .withColumnRenamed('HomeTeam','Team') \\\n",
    "                .join(\n",
    "                    df_D1_matches.groupby('Season', 'AwayTeam') \\\n",
    "                    .agg(\n",
    "                            sum('AwayPoint').alias('AwayPointsPerSeason'),\n",
    "                            sum('HomeGoals').alias('AGoalsAgainst'),\n",
    "                            sum('AwayGoals').alias('AGoalsFor'),\n",
    "                            sum('HomeWin').alias('ALoses'),\n",
    "                            sum('AwayWin').alias('AWins'),\n",
    "                            sum('Draw').alias('ADraw')\n",
    "                        ) \\\n",
    "                    .withColumnRenamed('AwayTeam','Team'),\n",
    "                    ['Season', 'Team'],\n",
    "                    'left'\n",
    "                ) \\\n",
    "                .sort('Season')\n",
    "\n",
    "df_D1_season_summary = df_D1_season_summary.withColumn('TotalPointsPerSeason', df_D1_season_summary['HomePointsPerSeason']+df_D1_season_summary['AwayPointsPerSeason']) \\\n",
    "                        .withColumn('GoalsFor', df_D1_season_summary['HGoalsFor']+df_D1_season_summary['AGoalsFor']) \\\n",
    "                        .withColumn('GoalsAgainst', df_D1_season_summary['HGoalsAgainst']+df_D1_season_summary['AGoalsAgainst']) \\\n",
    "                        .withColumn('Wins', df_D1_season_summary['HWins']+df_D1_season_summary['AWins']) \\\n",
    "                        .withColumn('Draws', df_D1_season_summary['HDraw']+df_D1_season_summary['ADraw']) \\\n",
    "                        .withColumn('Loses', df_D1_season_summary['HLoses']+df_D1_season_summary['ALoses'])\n",
    "\n",
    "df_D1_season_summary = df_D1_season_summary.withColumn('GoalsDiff', df_D1_season_summary['GoalsFor']-df_D1_season_summary['GoalsAgainst']) \\\n",
    "                        .select('Season', 'Team', 'Wins', 'Draws', 'Loses', 'GoalsFor', 'GoalsAgainst', 'GoalsDiff', 'TotalPointsPerSeason')\n",
    "\n",
    "df_D1_season_summary.show(10)"
   ]
  },
  {
   "cell_type": "code",
   "execution_count": 10,
   "id": "parallel-length",
   "metadata": {},
   "outputs": [
    {
     "name": "stdout",
     "output_type": "stream",
     "text": [
      "+------+--------------+----+-----+-----+--------+------------+---------+--------------------+--------+\n",
      "|Season|          Team|Wins|Draws|Loses|GoalsFor|GoalsAgainst|GoalsDiff|TotalPointsPerSeason|Position|\n",
      "+------+--------------+----+-----+-----+--------+------------+---------+--------------------+--------+\n",
      "|  1993| Bayern Munich|  17|   10|    7|      68|          37|       31|                  61|       1|\n",
      "|  1993|Kaiserslautern|  18|    7|    9|      64|          36|       28|                  61|       2|\n",
      "|  1993|      Dortmund|  15|    9|   10|      49|          45|        4|                  54|       3|\n",
      "|  1993| Ein Frankfurt|  15|    8|   11|      57|          41|       16|                  53|       4|\n",
      "|  1993|    Leverkusen|  14|   11|    9|      60|          47|       13|                  53|       5|\n",
      "|  1993|     Karlsruhe|  14|   10|   10|      46|          43|        3|                  52|       6|\n",
      "|  1993|     Stuttgart|  13|   11|   10|      51|          43|        8|                  50|       7|\n",
      "|  1993|      Duisburg|  14|    8|   12|      41|          52|      -11|                  50|       8|\n",
      "|  1993| Werder Bremen|  13|   10|   11|      51|          44|        7|                  49|       9|\n",
      "|  1993|    M'Gladbach|  14|    7|   13|      65|          59|        6|                  49|      10|\n",
      "+------+--------------+----+-----+-----+--------+------------+---------+--------------------+--------+\n",
      "only showing top 10 rows\n",
      "\n"
     ]
    }
   ],
   "source": [
    "windowSpec  = Window.partitionBy('Season').orderBy(df_D1_season_summary['TotalPointsPerSeason'].desc(), df_D1_season_summary['GoalsDiff'].desc())\n",
    "\n",
    "df_D1_season_summary = df_D1_season_summary.withColumn('Position', rank().over(windowSpec))\n",
    "\n",
    "df_D1_season_summary.show(10)"
   ]
  },
  {
   "cell_type": "code",
   "execution_count": 11,
   "id": "informed-british",
   "metadata": {
    "tags": []
   },
   "outputs": [
    {
     "name": "stdout",
     "output_type": "stream",
     "text": [
      "+------+-------------+----+-----+-----+--------+------------+---------+--------------------+\n",
      "|Season|         Team|Wins|Draws|Loses|GoalsFor|GoalsAgainst|GoalsDiff|TotalPointsPerSeason|\n",
      "+------+-------------+----+-----+-----+--------+------------+---------+--------------------+\n",
      "|  2000|Bayern Munich|  19|    6|    9|      62|          37|       25|                  63|\n",
      "|  2001|     Dortmund|  21|    7|    6|      62|          33|       29|                  70|\n",
      "|  2002|Bayern Munich|  23|    6|    5|      70|          25|       45|                  75|\n",
      "|  2003|Werder Bremen|  22|    8|    4|      79|          38|       41|                  74|\n",
      "|  2004|Bayern Munich|  24|    5|    5|      75|          33|       42|                  77|\n",
      "|  2005|Bayern Munich|  22|    9|    3|      67|          32|       35|                  75|\n",
      "|  2006|    Stuttgart|  21|    7|    6|      61|          37|       24|                  70|\n",
      "|  2007|Bayern Munich|  22|   10|    2|      68|          21|       47|                  76|\n",
      "|  2008|    Wolfsburg|  21|    6|    7|      80|          41|       39|                  69|\n",
      "|  2009|Bayern Munich|  20|   10|    4|      72|          31|       41|                  70|\n",
      "|  2010|     Dortmund|  23|    6|    5|      67|          22|       45|                  75|\n",
      "+------+-------------+----+-----+-----+--------+------------+---------+--------------------+\n",
      "\n"
     ]
    }
   ],
   "source": [
    "df_D1_winner_of_season = df_D1_season_summary.filter(\n",
    "        (df_D1_season_summary['Season'] >= '2000') &\n",
    "        (df_D1_season_summary['Season'] <= '2010') &\n",
    "        (df_D1_season_summary['Position'] == 1)\n",
    "    ) \\\n",
    "    .select('Season', 'Team', 'Wins', 'Draws', 'Loses', 'GoalsFor', 'GoalsAgainst', 'GoalsDiff', 'TotalPointsPerSeason') \\\n",
    "    .sort('Season')\n",
    "\n",
    "df_D1_winner_of_season.show()"
   ]
  },
  {
   "cell_type": "code",
   "execution_count": 12,
   "id": "undefined-broadcasting",
   "metadata": {},
   "outputs": [
    {
     "data": {
      "text/plain": [
       "<AxesSubplot:xlabel='Team'>"
      ]
     },
     "execution_count": 12,
     "metadata": {},
     "output_type": "execute_result"
    },
    {
     "data": {
      "image/png": "[encoded data removed]",
      "text/plain": [
       "<Figure size 432x288 with 1 Axes>"
      ]
     },
     "metadata": {
      "needs_background": "light"
     },
     "output_type": "display_data"
    }
   ],
   "source": [
    "df_D1_winner_of_season.groupby('Team') \\\n",
    "    .agg(count('Team').alias('#Seasons')) \\\n",
    "    .orderBy('#Seasons', ascending=False) \\\n",
    "    .toPandas() \\\n",
    "    .plot.bar(x='Team', y='#Seasons')"
   ]
  },
  {
   "cell_type": "markdown",
   "id": "individual-uniform",
   "metadata": {},
   "source": [
    "### Summary question 1:\n",
    "- There are D1 winner teams from 2000-2010.\n",
    "- Bayern Munich is the most successful team that wins 6 of 10 times."
   ]
  },
  {
   "cell_type": "markdown",
   "id": "seeing-complexity",
   "metadata": {},
   "source": [
    "## 2. Which teams have been relegated in the past 10 years?"
   ]
  },
  {
   "cell_type": "code",
   "execution_count": 13,
   "id": "perfect-movie",
   "metadata": {},
   "outputs": [
    {
     "name": "stdout",
     "output_type": "stream",
     "text": [
      "+------+--------------+----+-----+-----+--------+------------+---------+--------------------+--------+\n",
      "|Season|          Team|Wins|Draws|Loses|GoalsFor|GoalsAgainst|GoalsDiff|TotalPointsPerSeason|Position|\n",
      "+------+--------------+----+-----+-----+--------+------------+---------+--------------------+--------+\n",
      "|  1993| Bayern Munich|  17|   10|    7|      68|          37|       31|                  61|       1|\n",
      "|  1993|Kaiserslautern|  18|    7|    9|      64|          36|       28|                  61|       2|\n",
      "|  1993|      Dortmund|  15|    9|   10|      49|          45|        4|                  54|       3|\n",
      "|  1993| Ein Frankfurt|  15|    8|   11|      57|          41|       16|                  53|       4|\n",
      "|  1993|    Leverkusen|  14|   11|    9|      60|          47|       13|                  53|       5|\n",
      "|  1993|     Karlsruhe|  14|   10|   10|      46|          43|        3|                  52|       6|\n",
      "|  1993|     Stuttgart|  13|   11|   10|      51|          43|        8|                  50|       7|\n",
      "|  1993|      Duisburg|  14|    8|   12|      41|          52|      -11|                  50|       8|\n",
      "|  1993| Werder Bremen|  13|   10|   11|      51|          44|        7|                  49|       9|\n",
      "|  1993|    M'Gladbach|  14|    7|   13|      65|          59|        6|                  49|      10|\n",
      "+------+--------------+----+-----+-----+--------+------------+---------+--------------------+--------+\n",
      "only showing top 10 rows\n",
      "\n"
     ]
    }
   ],
   "source": [
    "df_D1_season_summary.show(10)"
   ]
  },
  {
   "cell_type": "code",
   "execution_count": 14,
   "id": "attached-companion",
   "metadata": {},
   "outputs": [
    {
     "name": "stdout",
     "output_type": "stream",
     "text": [
      "+------+--------------+----+-----+-----+--------+------------+---------+--------------------+--------+\n",
      "|Season|          Team|Wins|Draws|Loses|GoalsFor|GoalsAgainst|GoalsDiff|TotalPointsPerSeason|Position|\n",
      "+------+--------------+----+-----+-----+--------+------------+---------+--------------------+--------+\n",
      "|  2000|  Unterhaching|   8|   11|   15|      35|          59|      -24|                  35|      16|\n",
      "|  2000| Ein Frankfurt|  10|    5|   19|      41|          68|      -27|                  35|      17|\n",
      "|  2000|        Bochum|   7|    6|   21|      30|          67|      -37|                  27|      18|\n",
      "|  2001|      Freiburg|   7|    9|   18|      37|          64|      -27|                  30|      16|\n",
      "|  2001|       FC Koln|   7|    8|   19|      26|          61|      -35|                  29|      17|\n",
      "|  2001|      St Pauli|   4|   10|   20|      37|          70|      -33|                  22|      18|\n",
      "|  2002|     Bielefeld|   8|   12|   14|      35|          46|      -11|                  36|      16|\n",
      "|  2002|      Nurnberg|   8|    6|   20|      33|          60|      -27|                  30|      17|\n",
      "|  2002|       Cottbus|   7|    9|   18|      34|          64|      -30|                  30|      18|\n",
      "|  2003| Ein Frankfurt|   9|    5|   20|      36|          53|      -17|                  32|      16|\n",
      "|  2003|   Munich 1860|   8|    8|   18|      32|          55|      -23|                  32|      17|\n",
      "|  2003|       FC Koln|   6|    5|   23|      32|          57|      -25|                  23|      18|\n",
      "|  2004|        Bochum|   9|    8|   17|      47|          68|      -21|                  35|      16|\n",
      "|  2004| Hansa Rostock|   7|    9|   18|      31|          65|      -34|                  30|      17|\n",
      "|  2004|      Freiburg|   3|    9|   22|      30|          75|      -45|                  18|      18|\n",
      "|  2005|Kaiserslautern|   8|    9|   17|      47|          71|      -24|                  33|      16|\n",
      "|  2005|       FC Koln|   7|    9|   18|      49|          71|      -22|                  30|      17|\n",
      "|  2005|      Duisburg|   5|   12|   17|      34|          63|      -29|                  27|      18|\n",
      "|  2006|         Mainz|   8|   10|   16|      34|          57|      -23|                  34|      16|\n",
      "|  2006|        Aachen|   9|    7|   18|      46|          70|      -24|                  34|      17|\n",
      "|  2006|    M'gladbach|   6|    8|   20|      23|          44|      -21|                  26|      18|\n",
      "|  2007|      Nurnberg|   7|   10|   17|      35|          51|      -16|                  31|      16|\n",
      "|  2007| Hansa Rostock|   8|    6|   20|      30|          52|      -22|                  30|      17|\n",
      "|  2007|      Duisburg|   8|    5|   21|      36|          55|      -19|                  29|      18|\n",
      "|  2008|       Cottbus|   8|    6|   20|      30|          57|      -27|                  30|      16|\n",
      "|  2008|     Karlsruhe|   8|    5|   21|      30|          54|      -24|                  29|      17|\n",
      "|  2008|     Bielefeld|   4|   16|   14|      29|          56|      -27|                  28|      18|\n",
      "|  2009|      Nurnberg|   8|    7|   19|      32|          58|      -26|                  31|      16|\n",
      "|  2009|        Bochum|   6|   10|   18|      33|          64|      -31|                  28|      17|\n",
      "|  2009|        Hertha|   5|    9|   20|      34|          56|      -22|                  24|      18|\n",
      "|  2010|    M'gladbach|  10|    6|   18|      48|          65|      -17|                  36|      16|\n",
      "|  2010| Ein Frankfurt|   9|    7|   18|      31|          49|      -18|                  34|      17|\n",
      "|  2010|      St Pauli|   8|    5|   21|      35|          68|      -33|                  29|      18|\n",
      "+------+--------------+----+-----+-----+--------+------------+---------+--------------------+--------+\n",
      "\n"
     ]
    }
   ],
   "source": [
    "df_relegated_teams = df_D1_season_summary.filter(\n",
    "        (df_D1_season_summary['Season'] >= '2000') &\n",
    "        (df_D1_season_summary['Season'] <= '2010') &\n",
    "        (df_D1_season_summary['Position'].between(16, 18)) \n",
    "    )\n",
    "\n",
    "df_relegated_teams.show(33)"
   ]
  },
  {
   "cell_type": "markdown",
   "id": "present-allen",
   "metadata": {},
   "source": [
    "## 3. What's the best month to watch Bundesliga? (based on last 10 seasons)"
   ]
  },
  {
   "cell_type": "code",
   "execution_count": 15,
   "id": "atomic-setting",
   "metadata": {},
   "outputs": [
    {
     "name": "stdout",
     "output_type": "stream",
     "text": [
      "+--------+---+------+----------+-------------+----------+---------+---------+-----------+\n",
      "|Match_ID|Div|Season|      Date|     HomeTeam|  AwayTeam|HomeGoals|AwayGoals|MatchResult|\n",
      "+--------+---+------+----------+-------------+----------+---------+---------+-----------+\n",
      "|      21| D1|  2009|2010-02-06|       Bochum|Leverkusen|        1|        1|          D|\n",
      "|      22| D1|  2009|2009-11-22|Bayern Munich|Leverkusen|        1|        1|          D|\n",
      "|      23| D1|  2009|2010-05-08|   M'gladbach|Leverkusen|        1|        1|          D|\n",
      "|      24| D1|  2009|2009-08-08|        Mainz|Leverkusen|        2|        2|          D|\n",
      "|      25| D1|  2009|2009-10-17|      Hamburg|Leverkusen|        0|        0|          D|\n",
      "|      26| D1|  2009|2010-04-17|    Stuttgart|Leverkusen|        2|        1|          H|\n",
      "|      27| D1|  2009|2010-03-20|     Dortmund|Leverkusen|        3|        0|          H|\n",
      "|      28| D1|  2009|2009-10-31|   Schalke 04|Leverkusen|        2|        2|          D|\n",
      "|      29| D1|  2009|2009-08-22|     Freiburg|Leverkusen|        0|        5|          A|\n",
      "|      30| D1|  2009|2010-02-21|Werder Bremen|Leverkusen|        2|        2|          D|\n",
      "+--------+---+------+----------+-------------+----------+---------+---------+-----------+\n",
      "only showing top 10 rows\n",
      "\n"
     ]
    }
   ],
   "source": [
    "df_matches.filter(df_matches['Div'] == 'D1').show(10)"
   ]
  },
  {
   "cell_type": "code",
   "execution_count": 16,
   "id": "religious-manual",
   "metadata": {},
   "outputs": [],
   "source": [
    "error_seasons = df_matches.filter((df_matches['Div']=='D1') & ((df_matches['HomeGoals']<0) | (df_matches['AwayGoals']<0))) \\\n",
    "                    .select('Season') \\\n",
    "                    .distinct() \\\n",
    "                    .collect()\n",
    "\n",
    "error_seasons = list(error_seasons[0])"
   ]
  },
  {
   "cell_type": "code",
   "execution_count": 17,
   "id": "forward-backup",
   "metadata": {},
   "outputs": [],
   "source": [
    "last_10_seasons = list(\n",
    "    df_matches \\\n",
    "    .select('Season') \\\n",
    "    .distinct() \\\n",
    "    .sort(df_matches.Season.desc()) \\\n",
    "    .filter(~df_matches['Season'].isin(error_seasons)) \\\n",
    "    .limit(10) \\\n",
    "    .toPandas()['Season']\n",
    ")"
   ]
  },
  {
   "cell_type": "code",
   "execution_count": 18,
   "id": "framed-democrat",
   "metadata": {},
   "outputs": [
    {
     "name": "stdout",
     "output_type": "stream",
     "text": [
      "+-----+---------+----------+------------------+\n",
      "|Month|GoalCount|MatchCount|     GoalsPerMatch|\n",
      "+-----+---------+----------+------------------+\n",
      "|   01|      403|       151|2.6688741721854305|\n",
      "|   02|     1025|       369|2.7777777777777777|\n",
      "|   03|     1044|       362| 2.883977900552486|\n",
      "|   04|     1151|       405|2.8419753086419752|\n",
      "|   05|      802|       253|3.1699604743083003|\n",
      "|   08|      700|       243| 2.880658436213992|\n",
      "|   09|     1021|       343|2.9766763848396502|\n",
      "|   10|      906|       321| 2.822429906542056|\n",
      "|   11|     1022|       334| 3.059880239520958|\n",
      "|   12|      766|       279|2.7455197132616487|\n",
      "+-----+---------+----------+------------------+\n",
      "\n"
     ]
    }
   ],
   "source": [
    "df_goal_avg = df_matches.filter((df_matches['Div'] == 'D1') & (df_matches['Season'].isin(last_10_seasons))) \\\n",
    "    .groupby(df_matches['Date'][6:2].alias('Month')) \\\n",
    "    .agg(\n",
    "            (sum('HomeGoals')+sum('AwayGoals')).alias('GoalCount'),\n",
    "            count('Match_ID').alias('MatchCount')\n",
    "        ) \\\n",
    "    .sort('Month')\n",
    "\n",
    "df_goal_avg = df_goal_avg.withColumn('GoalsPerMatch', df_goal_avg['GoalCount'] / df_goal_avg['MatchCount'])\n",
    "\n",
    "df_goal_avg.show()"
   ]
  },
  {
   "cell_type": "code",
   "execution_count": 19,
   "id": "supported-intellectual",
   "metadata": {},
   "outputs": [
    {
     "data": {
      "text/plain": [
       "<AxesSubplot:xlabel='Month'>"
      ]
     },
     "execution_count": 19,
     "metadata": {},
     "output_type": "execute_result"
    },
    {
     "data": {
      "image/png": "[encoded data removed]",
      "text/plain": [
       "<Figure size 432x288 with 1 Axes>"
      ]
     },
     "metadata": {
      "needs_background": "light"
     },
     "output_type": "display_data"
    }
   ],
   "source": [
    "df_goal_avg.toPandas().plot.bar(x='Month', y='GoalsPerMatch')"
   ]
  },
  {
   "cell_type": "markdown",
   "id": "touched-postcard",
   "metadata": {},
   "source": [
    "### Summary question 3\n",
    "- The best month to watch Bundesliga is May which is almost the end of the season."
   ]
  },
  {
   "cell_type": "markdown",
   "id": "social-morgan",
   "metadata": {},
   "source": [
    "## 4. Does Octoberfest affect the performance of Bundesliga?"
   ]
  },
  {
   "cell_type": "code",
   "execution_count": 20,
   "id": "upper-completion",
   "metadata": {},
   "outputs": [
    {
     "name": "stdout",
     "output_type": "stream",
     "text": [
      "+-----+---------+----------+------------------+----+\n",
      "|Month|GoalCount|MatchCount|     GoalsPerMatch|Rank|\n",
      "+-----+---------+----------+------------------+----+\n",
      "|   05|      802|       253|3.1699604743083003|   1|\n",
      "|   11|     1022|       334| 3.059880239520958|   2|\n",
      "|   09|     1021|       343|2.9766763848396502|   3|\n",
      "|   03|     1044|       362| 2.883977900552486|   4|\n",
      "|   08|      700|       243| 2.880658436213992|   5|\n",
      "|   04|     1151|       405|2.8419753086419752|   6|\n",
      "|   10|      906|       321| 2.822429906542056|   7|\n",
      "|   02|     1025|       369|2.7777777777777777|   8|\n",
      "|   12|      766|       279|2.7455197132616487|   9|\n",
      "|   01|      403|       151|2.6688741721854305|  10|\n",
      "+-----+---------+----------+------------------+----+\n",
      "\n"
     ]
    }
   ],
   "source": [
    "windowSpec2  = Window.orderBy(df_goal_avg['GoalsPerMatch'].desc())\n",
    "\n",
    "df_goal_avg.withColumn('Rank', rank().over(windowSpec2)).show()"
   ]
  },
  {
   "cell_type": "markdown",
   "id": "patient-livestock",
   "metadata": {},
   "source": [
    "### Summary question 4\n",
    "- Oktoberfest affect, because goals/match is at 7 of 10 positions.\n",
    "- From the graph above (question 3), goals/match in October is less than the 2 nearest months."
   ]
  },
  {
   "cell_type": "markdown",
   "id": "cheap-latest",
   "metadata": {},
   "source": [
    "## 5. Which season of Bundesliga was the most competitive in the last decade?"
   ]
  },
  {
   "cell_type": "code",
   "execution_count": 21,
   "id": "detected-allah",
   "metadata": {
    "tags": []
   },
   "outputs": [
    {
     "name": "stdout",
     "output_type": "stream",
     "text": [
      "+------+--------------+----+-----+-----+--------+------------+---------+--------------------+--------+\n",
      "|Season|          Team|Wins|Draws|Loses|GoalsFor|GoalsAgainst|GoalsDiff|TotalPointsPerSeason|Position|\n",
      "+------+--------------+----+-----+-----+--------+------------+---------+--------------------+--------+\n",
      "|  2000| Bayern Munich|  19|    6|    9|      62|          37|       25|                  63|       1|\n",
      "|  2000|    Schalke 04|  18|    8|    8|      65|          35|       30|                  62|       2|\n",
      "|  2000|      Dortmund|  16|   10|    8|      62|          42|       20|                  58|       3|\n",
      "|  2000|    Leverkusen|  17|    6|   11|      54|          40|       14|                  57|       4|\n",
      "|  2000|        Hertha|  18|    2|   14|      58|          52|        6|                  56|       5|\n",
      "|  2000|      Freiburg|  15|   10|    9|      54|          37|       17|                  55|       6|\n",
      "|  2000| Werder Bremen|  15|    8|   11|      53|          48|        5|                  53|       7|\n",
      "|  2000|Kaiserslautern|  15|    5|   14|      49|          54|       -5|                  50|       8|\n",
      "|  2000|     Wolfsburg|  12|   11|   11|      60|          45|       15|                  47|       9|\n",
      "|  2000|       FC Koln|  12|   10|   12|      59|          52|        7|                  46|      10|\n",
      "+------+--------------+----+-----+-----+--------+------------+---------+--------------------+--------+\n",
      "only showing top 10 rows\n",
      "\n"
     ]
    }
   ],
   "source": [
    "df_D1_season_summary.filter(\n",
    "        (df_D1_season_summary['Season'] >= '2000') &\n",
    "        (df_D1_season_summary['Season'] <= '2010')\n",
    "    ).show(10)"
   ]
  },
  {
   "cell_type": "code",
   "execution_count": 22,
   "id": "tracked-distance",
   "metadata": {},
   "outputs": [
    {
     "name": "stdout",
     "output_type": "stream",
     "text": [
      "+------+--------------+----+-----+-----+--------+------------+---------+--------------------+--------+-------------------+-----------------+\n",
      "|Season|          Team|Wins|Draws|Loses|GoalsFor|GoalsAgainst|GoalsDiff|TotalPointsPerSeason|Position|LowerAdjacentPoints|AdjacentPointDiff|\n",
      "+------+--------------+----+-----+-----+--------+------------+---------+--------------------+--------+-------------------+-----------------+\n",
      "|  2000| Bayern Munich|  19|    6|    9|      62|          37|       25|                  63|       1|                 62|                1|\n",
      "|  2000|    Schalke 04|  18|    8|    8|      65|          35|       30|                  62|       2|                 58|                4|\n",
      "|  2000|      Dortmund|  16|   10|    8|      62|          42|       20|                  58|       3|                 57|                1|\n",
      "|  2000|    Leverkusen|  17|    6|   11|      54|          40|       14|                  57|       4|                 56|                1|\n",
      "|  2000|        Hertha|  18|    2|   14|      58|          52|        6|                  56|       5|                 55|                1|\n",
      "|  2000|      Freiburg|  15|   10|    9|      54|          37|       17|                  55|       6|                 53|                2|\n",
      "|  2000| Werder Bremen|  15|    8|   11|      53|          48|        5|                  53|       7|                 50|                3|\n",
      "|  2000|Kaiserslautern|  15|    5|   14|      49|          54|       -5|                  50|       8|                 47|                3|\n",
      "|  2000|     Wolfsburg|  12|   11|   11|      60|          45|       15|                  47|       9|                 46|                1|\n",
      "|  2000|       FC Koln|  12|   10|   12|      59|          52|        7|                  46|      10|                 44|                2|\n",
      "|  2000|   Munich 1860|  12|    8|   14|      43|          55|      -12|                  44|      11|                 43|                1|\n",
      "|  2000| Hansa Rostock|  12|    7|   15|      34|          47|      -13|                  43|      12|                 41|                2|\n",
      "|  2000|       Hamburg|  10|   11|   13|      58|          58|        0|                  41|      13|                 39|                2|\n",
      "|  2000|       Cottbus|  12|    3|   19|      38|          52|      -14|                  39|      14|                 38|                1|\n",
      "|  2000|     Stuttgart|   9|   11|   14|      42|          49|       -7|                  38|      15|                 35|                3|\n",
      "|  2000|  Unterhaching|   8|   11|   15|      35|          59|      -24|                  35|      16|                 35|                0|\n",
      "|  2000| Ein Frankfurt|  10|    5|   19|      41|          68|      -27|                  35|      17|                 27|                8|\n",
      "|  2000|        Bochum|   7|    6|   21|      30|          67|      -37|                  27|      18|               null|                0|\n",
      "|  2001|      Dortmund|  21|    7|    6|      62|          33|       29|                  70|       1|                 69|                1|\n",
      "|  2001|    Leverkusen|  21|    6|    7|      77|          38|       39|                  69|       2|                 68|                1|\n",
      "+------+--------------+----+-----+-----+--------+------------+---------+--------------------+--------+-------------------+-----------------+\n",
      "only showing top 20 rows\n",
      "\n"
     ]
    }
   ],
   "source": [
    "w = Window.partitionBy('Season').orderBy('Position')\n",
    "\n",
    "df_diff_points = df_D1_season_summary.filter(\n",
    "                                                (df_D1_season_summary['Season'] >= '2000') &\n",
    "                                                (df_D1_season_summary['Season'] <= '2010')\n",
    "                                            ) \\\n",
    "                                            .withColumn('LowerAdjacentPoints', lead('TotalPointsPerSeason', 1).over(w))\n",
    "\n",
    "df_diff_points = df_diff_points.withColumn(\n",
    "                                            'AdjacentPointDiff',\n",
    "                                            when(\n",
    "                                                  df_diff_points['LowerAdjacentPoints'].isNotNull(),\n",
    "                                                  df_diff_points['TotalPointsPerSeason']-df_diff_points['LowerAdjacentPoints']\n",
    "                                            ) \\\n",
    "                                            .otherwise(0)\n",
    "                                         )\n",
    "\n",
    "df_diff_points.show()"
   ]
  },
  {
   "cell_type": "code",
   "execution_count": 23,
   "id": "wanted-wisconsin",
   "metadata": {},
   "outputs": [
    {
     "data": {
      "text/plain": [
       "<AxesSubplot:xlabel='Season'>"
      ]
     },
     "execution_count": 23,
     "metadata": {},
     "output_type": "execute_result"
    },
    {
     "data": {
      "image/png": "[encoded data removed]",
      "text/plain": [
       "<Figure size 432x288 with 1 Axes>"
      ]
     },
     "metadata": {
      "needs_background": "light"
     },
     "output_type": "display_data"
    }
   ],
   "source": [
    "df_diff_points.groupby('Season').agg(avg('AdjacentPointDiff').alias('AvgPointDiff')).toPandas().plot.bar(x='Season', y='AvgPointDiff')"
   ]
  },
  {
   "cell_type": "markdown",
   "id": "severe-michigan",
   "metadata": {},
   "source": [
    "### Summary question 5\n",
    "- 2000/01 season is the most competitive season, since the average of point difference of nearest position is lowest."
   ]
  }
 ],
 "metadata": {
  "kernelspec": {
   "display_name": "PySpark 2.4.7",
   "language": "python",
   "name": "pyspark"
  },
  "language_info": {
   "codemirror_mode": {
    "name": "ipython",
    "version": 3
   },
   "file_extension": ".py",
   "mimetype": "text/x-python",
   "name": "python",
   "nbconvert_exporter": "python",
   "pygments_lexer": "ipython3",
   "version": "3.6.8"
  }
 },
 "nbformat": 4,
 "nbformat_minor": 5
}
