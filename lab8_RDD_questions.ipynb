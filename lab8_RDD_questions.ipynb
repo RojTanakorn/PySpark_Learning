{
 "cells": [
  {
   "cell_type": "code",
   "execution_count": 1,
   "id": "medium-guess",
   "metadata": {},
   "outputs": [
    {
     "data": {
      "text/html": [
       "\n",
       "        <div>\n",
       "            <p><b>SparkContext</b></p>\n",
       "\n",
       "            <p><a href=\"http://cpe325.localcluster:4040\">Spark UI</a></p>\n",
       "\n",
       "            <dl>\n",
       "              <dt>Version</dt>\n",
       "                <dd><code>v2.4.7</code></dd>\n",
       "              <dt>Master</dt>\n",
       "                <dd><code>local[*]</code></dd>\n",
       "              <dt>AppName</dt>\n",
       "                <dd><code>pyspark-shell</code></dd>\n",
       "            </dl>\n",
       "        </div>\n",
       "        "
      ],
      "text/plain": [
       "<SparkContext master=local[*] appName=pyspark-shell>"
      ]
     },
     "execution_count": 1,
     "metadata": {},
     "output_type": "execute_result"
    }
   ],
   "source": [
    "sc"
   ]
  },
  {
   "cell_type": "markdown",
   "id": "accurate-advocate",
   "metadata": {},
   "source": [
    "## Read log"
   ]
  },
  {
   "cell_type": "code",
   "execution_count": 4,
   "id": "instructional-worcester",
   "metadata": {},
   "outputs": [
    {
     "data": {
      "text/plain": [
       "['17/06/09 20:10:40 INFO executor.CoarseGrainedExecutorBackend: Registered signal handlers for [TERM, HUP, INT]',\n",
       " '17/06/09 20:10:40 INFO spark.SecurityManager: Changing view acls to: yarn,curi',\n",
       " '17/06/09 20:10:40 INFO spark.SecurityManager: Changing modify acls to: yarn,curi']"
      ]
     },
     "execution_count": 4,
     "metadata": {},
     "output_type": "execute_result"
    }
   ],
   "source": [
    "logs = sc.textFile('/user/testuser/spark.log')\n",
    "logs.take(3)"
   ]
  },
  {
   "cell_type": "markdown",
   "id": "extraordinary-external",
   "metadata": {},
   "source": [
    "## Get times from log and count each of them"
   ]
  },
  {
   "cell_type": "code",
   "execution_count": 14,
   "id": "gentle-resolution",
   "metadata": {},
   "outputs": [],
   "source": [
    "time_log_count = logs.map(lambda log: (log.split()[1], 1)).reduceByKey(lambda x,y: x+y).sortBy(lambda kv: kv[0])"
   ]
  },
  {
   "cell_type": "code",
   "execution_count": 15,
   "id": "appreciated-aspect",
   "metadata": {},
   "outputs": [
    {
     "data": {
      "text/plain": [
       "[('20:10:40', 4),\n",
       " ('20:10:41', 9),\n",
       " ('20:10:42', 7),\n",
       " ('20:10:45', 13),\n",
       " ('20:10:46', 15)]"
      ]
     },
     "execution_count": 15,
     "metadata": {},
     "output_type": "execute_result"
    }
   ],
   "source": [
    "time_log_count.take(5)"
   ]
  },
  {
   "cell_type": "markdown",
   "id": "failing-orchestra",
   "metadata": {},
   "source": [
    "## Count number of log that between 20:10:40 and 20:10:50"
   ]
  },
  {
   "cell_type": "code",
   "execution_count": 25,
   "id": "protecting-level",
   "metadata": {},
   "outputs": [
    {
     "data": {
      "text/plain": [
       "93"
      ]
     },
     "execution_count": 25,
     "metadata": {},
     "output_type": "execute_result"
    }
   ],
   "source": [
    "time_log_count.filter(lambda kv: '20:10:40' <= kv[0] <= '20:10:50').values().sum()"
   ]
  }
 ],
 "metadata": {
  "kernelspec": {
   "display_name": "PySpark 2.4.7",
   "language": "python",
   "name": "pyspark"
  },
  "language_info": {
   "codemirror_mode": {
    "name": "ipython",
    "version": 3
   },
   "file_extension": ".py",
   "mimetype": "text/x-python",
   "name": "python",
   "nbconvert_exporter": "python",
   "pygments_lexer": "ipython3",
   "version": "3.6.8"
  }
 },
 "nbformat": 4,
 "nbformat_minor": 5
}
